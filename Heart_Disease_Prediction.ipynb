{
  "nbformat": 4,
  "nbformat_minor": 0,
  "metadata": {
    "colab": {
      "name": "Heart-Disease-Prediction.ipynb",
      "provenance": [],
      "collapsed_sections": []
    },
    "kernelspec": {
      "name": "python3",
      "display_name": "Python 3"
    },
    "language_info": {
      "name": "python"
    }
  },
  "cells": [
    {
      "cell_type": "markdown",
      "metadata": {
        "id": "_JmFuGsCHti2"
      },
      "source": [
        "<div class=\"alert alert-info\">\n",
        "    <h1>\n",
        "        <center>\n",
        "        <font color=LightSeaGreen> Heart Disease Prediction<font>\n",
        "        </center>\n",
        "    </h1>\n",
        "</div>"
      ]
    },
    {
      "cell_type": "markdown",
      "metadata": {
        "id": "f_n_jvRLlkM8"
      },
      "source": [
        "\n",
        "### <font color=LightSeaGreen> Contents of this notbook</font>\n",
        "\n",
        "---\n",
        "\n",
        "*   [Introduction](#introduction)\n",
        "*   [Source](#source)\n",
        "*   [Features](#features)\n",
        "*   [Configuration and Loading](#load)\n",
        "*   [Data Analysis](#data-analysis)\n",
        "  -   [Describe the dataset](#describe)\n",
        "  -   [Check duplicate/missing values](#check-dup)\n",
        "  -   [Imputation](#impute)\n",
        "  -   [Distribution and Correlation](#figure)\n",
        "  -   [Check the outliers](#outlier)\n",
        "  -   [Scaling](#scaling)\n",
        "  -   [Balancing](#balancing)\n",
        "*   [Model Selection](#model)\n",
        "\n",
        "  -    [Decision Tree](#DT)\n",
        "  -   [ SVM ](#svm)\n",
        "  -   [ MLP ](#mlp)\n",
        "  -   [ RF ](#rf)\n",
        "\n",
        "\n",
        "\n",
        "\n",
        "NOTE: data analysis ro copy con tu gesmate payin\n",
        "\n",
        "\n",
        "\n",
        "\n",
        "\n",
        "\n"
      ]
    },
    {
      "cell_type": "markdown",
      "metadata": {
        "id": "jCp9Wa_3GqE6"
      },
      "source": [
        "## <font color=LightSeaGreen>Introduction<font><a name=\"introduction\"></a>\n",
        "---\n",
        "\n",
        "\n",
        ">*World Health Organization has  estimated 12 million deaths occur worldwide, every year due to Heart diseases. Half the deaths in the United States and other developed countries are due to cardio vascular diseases. The early prognosis of cardiovascular diseases can aid in making decisions on lifestyle changes in high risk patients and in turn reduce the complications.*\n",
        "\n",
        "This project will analyse the risk factors of heart disease and overal risk of heart disease. During the notebook we will work with several Machine learning classification algorithms to perform the analysis. Hyperparameter tuning, cross validation and confusion matrix will be addressed. Finally, a prediction method will be put in the user input test.\n"
      ]
    },
    {
      "cell_type": "markdown",
      "metadata": {
        "id": "yeb8FZxpoIGM"
      },
      "source": [
        "## <font color=LightSeaGreen>Source<font><a name=\"source\"></a>\n",
        "---\n",
        ">*The dataset is publically available on the Kaggle website, and it is from an ongoing cardiovascular study on residents of the town of Framingham, Massachusetts. The classification goal is to predict whether the patient has 10-year risk of future coronary heart disease (CHD).The dataset provides the patients’ information. It includes over 4,000 records and 15 attributes. Variables Each attribute is a potential risk factor in this dataset.*\n",
        "\n",
        "[Link to dataset](https://www.kaggle.com/amanajmera1/framingham-heart-study-dataset)"
      ]
    },
    {
      "cell_type": "markdown",
      "metadata": {
        "id": "AWL5rA6WHBdj"
      },
      "source": [
        "## <font color=LightSeaGreen>Features </font><a name=features></a>\n",
        "---\n",
        "<br>\n",
        "\n",
        "\n",
        "- **<font color=LightSeaGreen>Nominal features:</font>**\n",
        "  - **sex**: male or female\n",
        "  -  **BPMeds**: whether or not the patient was on blood pressure medication\n",
        "  -  **currentSmoker**: whether or not the patient is a current smoker\n",
        "  -  prevalentStroke: whether or not the patient had previously had a stroke\n",
        "  -  prevalentHyp: whether or not the patient was hypertensive\n",
        "  -  diabetes: whether or not the patient had diabetes\n",
        "\n",
        "\n",
        "\n",
        "- **<font color=LightSeaGreen>Continuous features:</font>**\n",
        "  -  age: age of the patient\n",
        "  -  cigsPerDay: the number of cigarettes that the person smoked on average in one day.\n",
        "  -  totChol: total cholesterol level\n",
        "  -  sysBP: systolic blood pressure\n",
        "  -  diaBP: diastolic blood pressure\n",
        "  -  BMI: Body Mass Index\n",
        "  -  heartRate: heart rate \n",
        "  -  glucose: glucose level\n",
        "\n",
        "\n",
        "\n",
        " - **<font color=LightSeaGreen>Target/Class:</font>**\n",
        "  -  TenYearCHD: 10 years risk of coronary heart disease CHD (“1” for “Yes”, “0” for “No”)\n",
        "\n",
        "\n",
        "<small>Note: some of the features are not continuous in the dataset but the concept of them is still continuous, therefore, we put them in the coresponding categories like (age). besides, in some other cases duo to the fact that the possible range of the values are very large, we considered them as a continuous feature like heart rate.</small>\n",
        "\n"
      ]
    },
    {
      "cell_type": "markdown",
      "metadata": {
        "id": "ORtD8fYMGccx"
      },
      "source": [
        "## <font color=LightSeaGreen>Configuration and Loading<font><a name=load></a>\n",
        "---\n",
        "\n",
        "We decided to load the csv file with pandas dataframe.\n"
      ]
    },
    {
      "cell_type": "code",
      "metadata": {
        "id": "oBmh5cVwAhxS"
      },
      "source": [
        "# Pandas and numpy for data manipulation as we use it many times with alias 'pd', 'np'\n",
        "import pandas as pd\n",
        "import numpy as np\n",
        "\n",
        "# Matplotlib and seaborn visualization\n",
        "import matplotlib.pyplot as plt\n",
        "import seaborn as sn\n",
        "\n",
        "# No warnings about setting value on copy of slice\n",
        "pd.options.mode.chained_assignment = None\n",
        "\n",
        "# As we see in the class we use this line of the code in order to show the figures inline.\n",
        "%matplotlib inline \n",
        "\n",
        "# Set default font size\n",
        "plt.rcParams['font.size'] = 15\n",
        "\n",
        "# during the hyper parameter tuning I face many messy warning which make me a little bit unhappy. because\n",
        "# could not focus on the measure or report of my model selection. I had to scroll too much. By searching into\n",
        "# the we I found this line of the code. \n",
        "import warnings\n",
        "warnings.filterwarnings('ignore')\n",
        "# - ignore is to hide the warning\n",
        "# - always is to show the warning\n"
      ],
      "execution_count": 1,
      "outputs": []
    },
    {
      "cell_type": "code",
      "source": [
        "from google.colab import drive\n",
        "drive.mount('/content/drive')"
      ],
      "metadata": {
        "colab": {
          "base_uri": "https://localhost:8080/"
        },
        "id": "Ogv4727mGbbR",
        "outputId": "0109d958-790c-472a-9e75-8201da819e51"
      },
      "execution_count": 2,
      "outputs": [
        {
          "output_type": "stream",
          "name": "stdout",
          "text": [
            "Mounted at /content/drive\n"
          ]
        }
      ]
    },
    {
      "cell_type": "code",
      "metadata": {
        "id": "ewvAEr9yg67m"
      },
      "source": [
        "dataFrame = pd.read_csv('drive/MyDrive/MLProject/dataset.csv')"
      ],
      "execution_count": 3,
      "outputs": []
    },
    {
      "cell_type": "markdown",
      "metadata": {
        "id": "PSTHrxq8y09n"
      },
      "source": [
        "## <font color=LightSeaGreen>Data Analysis<font><a name=data-analysis></a>\n",
        "---\n",
        "\n",
        "  -   [Describe the dataset](#describe)\n",
        "  -   [Check duplicate/missing values](#check-dup)\n",
        "  -   [Imputation](#impute)\n",
        "  -   [Distribution and Correlation](#figure)\n",
        "  -   [Check the outliers](#outlier)\n",
        "  -   [Scaling](#scaling)\n",
        "  -   [Balancing](#balancing)\n"
      ]
    },
    {
      "cell_type": "markdown",
      "metadata": {
        "id": "5zmwdqlV0Zvj"
      },
      "source": [
        "#### <font color=SeaGreen>Describe the dataset<font><a name=describe></a>"
      ]
    },
    {
      "cell_type": "code",
      "metadata": {
        "colab": {
          "base_uri": "https://localhost:8080/"
        },
        "id": "uocffNTTMxWb",
        "outputId": "4b2d7c71-8c9a-4430-c594-267ad903830c"
      },
      "source": [
        "row_number,col_number = dataFrame.shape\n",
        "print('The size of input data is: ', row_number, '*' ,col_number)\n"
      ],
      "execution_count": 4,
      "outputs": [
        {
          "output_type": "stream",
          "name": "stdout",
          "text": [
            "The size of input data is:  4240 * 16\n"
          ]
        }
      ]
    },
    {
      "cell_type": "code",
      "metadata": {
        "colab": {
          "base_uri": "https://localhost:8080/",
          "height": 206
        },
        "id": "yrziHd5LHO6G",
        "outputId": "a56308c5-cb4a-4cb2-b18a-1c6c8892af5a"
      },
      "source": [
        "dataFrame.head(5)"
      ],
      "execution_count": 5,
      "outputs": [
        {
          "output_type": "execute_result",
          "data": {
            "text/plain": [
              "   male  age  education  currentSmoker  cigsPerDay  BPMeds  prevalentStroke  \\\n",
              "0     1   39        4.0              0         0.0     0.0                0   \n",
              "1     0   46        2.0              0         0.0     0.0                0   \n",
              "2     1   48        1.0              1        20.0     0.0                0   \n",
              "3     0   61        3.0              1        30.0     0.0                0   \n",
              "4     0   46        3.0              1        23.0     0.0                0   \n",
              "\n",
              "   prevalentHyp  diabetes  totChol  sysBP  diaBP    BMI  heartRate  glucose  \\\n",
              "0             0         0    195.0  106.0   70.0  26.97       80.0     77.0   \n",
              "1             0         0    250.0  121.0   81.0  28.73       95.0     76.0   \n",
              "2             0         0    245.0  127.5   80.0  25.34       75.0     70.0   \n",
              "3             1         0    225.0  150.0   95.0  28.58       65.0    103.0   \n",
              "4             0         0    285.0  130.0   84.0  23.10       85.0     85.0   \n",
              "\n",
              "   TenYearCHD  \n",
              "0           0  \n",
              "1           0  \n",
              "2           0  \n",
              "3           1  \n",
              "4           0  "
            ],
            "text/html": [
              "\n",
              "  <div id=\"df-f62e7e1f-3440-445c-ba06-9f0d9993c511\">\n",
              "    <div class=\"colab-df-container\">\n",
              "      <div>\n",
              "<style scoped>\n",
              "    .dataframe tbody tr th:only-of-type {\n",
              "        vertical-align: middle;\n",
              "    }\n",
              "\n",
              "    .dataframe tbody tr th {\n",
              "        vertical-align: top;\n",
              "    }\n",
              "\n",
              "    .dataframe thead th {\n",
              "        text-align: right;\n",
              "    }\n",
              "</style>\n",
              "<table border=\"1\" class=\"dataframe\">\n",
              "  <thead>\n",
              "    <tr style=\"text-align: right;\">\n",
              "      <th></th>\n",
              "      <th>male</th>\n",
              "      <th>age</th>\n",
              "      <th>education</th>\n",
              "      <th>currentSmoker</th>\n",
              "      <th>cigsPerDay</th>\n",
              "      <th>BPMeds</th>\n",
              "      <th>prevalentStroke</th>\n",
              "      <th>prevalentHyp</th>\n",
              "      <th>diabetes</th>\n",
              "      <th>totChol</th>\n",
              "      <th>sysBP</th>\n",
              "      <th>diaBP</th>\n",
              "      <th>BMI</th>\n",
              "      <th>heartRate</th>\n",
              "      <th>glucose</th>\n",
              "      <th>TenYearCHD</th>\n",
              "    </tr>\n",
              "  </thead>\n",
              "  <tbody>\n",
              "    <tr>\n",
              "      <th>0</th>\n",
              "      <td>1</td>\n",
              "      <td>39</td>\n",
              "      <td>4.0</td>\n",
              "      <td>0</td>\n",
              "      <td>0.0</td>\n",
              "      <td>0.0</td>\n",
              "      <td>0</td>\n",
              "      <td>0</td>\n",
              "      <td>0</td>\n",
              "      <td>195.0</td>\n",
              "      <td>106.0</td>\n",
              "      <td>70.0</td>\n",
              "      <td>26.97</td>\n",
              "      <td>80.0</td>\n",
              "      <td>77.0</td>\n",
              "      <td>0</td>\n",
              "    </tr>\n",
              "    <tr>\n",
              "      <th>1</th>\n",
              "      <td>0</td>\n",
              "      <td>46</td>\n",
              "      <td>2.0</td>\n",
              "      <td>0</td>\n",
              "      <td>0.0</td>\n",
              "      <td>0.0</td>\n",
              "      <td>0</td>\n",
              "      <td>0</td>\n",
              "      <td>0</td>\n",
              "      <td>250.0</td>\n",
              "      <td>121.0</td>\n",
              "      <td>81.0</td>\n",
              "      <td>28.73</td>\n",
              "      <td>95.0</td>\n",
              "      <td>76.0</td>\n",
              "      <td>0</td>\n",
              "    </tr>\n",
              "    <tr>\n",
              "      <th>2</th>\n",
              "      <td>1</td>\n",
              "      <td>48</td>\n",
              "      <td>1.0</td>\n",
              "      <td>1</td>\n",
              "      <td>20.0</td>\n",
              "      <td>0.0</td>\n",
              "      <td>0</td>\n",
              "      <td>0</td>\n",
              "      <td>0</td>\n",
              "      <td>245.0</td>\n",
              "      <td>127.5</td>\n",
              "      <td>80.0</td>\n",
              "      <td>25.34</td>\n",
              "      <td>75.0</td>\n",
              "      <td>70.0</td>\n",
              "      <td>0</td>\n",
              "    </tr>\n",
              "    <tr>\n",
              "      <th>3</th>\n",
              "      <td>0</td>\n",
              "      <td>61</td>\n",
              "      <td>3.0</td>\n",
              "      <td>1</td>\n",
              "      <td>30.0</td>\n",
              "      <td>0.0</td>\n",
              "      <td>0</td>\n",
              "      <td>1</td>\n",
              "      <td>0</td>\n",
              "      <td>225.0</td>\n",
              "      <td>150.0</td>\n",
              "      <td>95.0</td>\n",
              "      <td>28.58</td>\n",
              "      <td>65.0</td>\n",
              "      <td>103.0</td>\n",
              "      <td>1</td>\n",
              "    </tr>\n",
              "    <tr>\n",
              "      <th>4</th>\n",
              "      <td>0</td>\n",
              "      <td>46</td>\n",
              "      <td>3.0</td>\n",
              "      <td>1</td>\n",
              "      <td>23.0</td>\n",
              "      <td>0.0</td>\n",
              "      <td>0</td>\n",
              "      <td>0</td>\n",
              "      <td>0</td>\n",
              "      <td>285.0</td>\n",
              "      <td>130.0</td>\n",
              "      <td>84.0</td>\n",
              "      <td>23.10</td>\n",
              "      <td>85.0</td>\n",
              "      <td>85.0</td>\n",
              "      <td>0</td>\n",
              "    </tr>\n",
              "  </tbody>\n",
              "</table>\n",
              "</div>\n",
              "      <button class=\"colab-df-convert\" onclick=\"convertToInteractive('df-f62e7e1f-3440-445c-ba06-9f0d9993c511')\"\n",
              "              title=\"Convert this dataframe to an interactive table.\"\n",
              "              style=\"display:none;\">\n",
              "        \n",
              "  <svg xmlns=\"http://www.w3.org/2000/svg\" height=\"24px\"viewBox=\"0 0 24 24\"\n",
              "       width=\"24px\">\n",
              "    <path d=\"M0 0h24v24H0V0z\" fill=\"none\"/>\n",
              "    <path d=\"M18.56 5.44l.94 2.06.94-2.06 2.06-.94-2.06-.94-.94-2.06-.94 2.06-2.06.94zm-11 1L8.5 8.5l.94-2.06 2.06-.94-2.06-.94L8.5 2.5l-.94 2.06-2.06.94zm10 10l.94 2.06.94-2.06 2.06-.94-2.06-.94-.94-2.06-.94 2.06-2.06.94z\"/><path d=\"M17.41 7.96l-1.37-1.37c-.4-.4-.92-.59-1.43-.59-.52 0-1.04.2-1.43.59L10.3 9.45l-7.72 7.72c-.78.78-.78 2.05 0 2.83L4 21.41c.39.39.9.59 1.41.59.51 0 1.02-.2 1.41-.59l7.78-7.78 2.81-2.81c.8-.78.8-2.07 0-2.86zM5.41 20L4 18.59l7.72-7.72 1.47 1.35L5.41 20z\"/>\n",
              "  </svg>\n",
              "      </button>\n",
              "      \n",
              "  <style>\n",
              "    .colab-df-container {\n",
              "      display:flex;\n",
              "      flex-wrap:wrap;\n",
              "      gap: 12px;\n",
              "    }\n",
              "\n",
              "    .colab-df-convert {\n",
              "      background-color: #E8F0FE;\n",
              "      border: none;\n",
              "      border-radius: 50%;\n",
              "      cursor: pointer;\n",
              "      display: none;\n",
              "      fill: #1967D2;\n",
              "      height: 32px;\n",
              "      padding: 0 0 0 0;\n",
              "      width: 32px;\n",
              "    }\n",
              "\n",
              "    .colab-df-convert:hover {\n",
              "      background-color: #E2EBFA;\n",
              "      box-shadow: 0px 1px 2px rgba(60, 64, 67, 0.3), 0px 1px 3px 1px rgba(60, 64, 67, 0.15);\n",
              "      fill: #174EA6;\n",
              "    }\n",
              "\n",
              "    [theme=dark] .colab-df-convert {\n",
              "      background-color: #3B4455;\n",
              "      fill: #D2E3FC;\n",
              "    }\n",
              "\n",
              "    [theme=dark] .colab-df-convert:hover {\n",
              "      background-color: #434B5C;\n",
              "      box-shadow: 0px 1px 3px 1px rgba(0, 0, 0, 0.15);\n",
              "      filter: drop-shadow(0px 1px 2px rgba(0, 0, 0, 0.3));\n",
              "      fill: #FFFFFF;\n",
              "    }\n",
              "  </style>\n",
              "\n",
              "      <script>\n",
              "        const buttonEl =\n",
              "          document.querySelector('#df-f62e7e1f-3440-445c-ba06-9f0d9993c511 button.colab-df-convert');\n",
              "        buttonEl.style.display =\n",
              "          google.colab.kernel.accessAllowed ? 'block' : 'none';\n",
              "\n",
              "        async function convertToInteractive(key) {\n",
              "          const element = document.querySelector('#df-f62e7e1f-3440-445c-ba06-9f0d9993c511');\n",
              "          const dataTable =\n",
              "            await google.colab.kernel.invokeFunction('convertToInteractive',\n",
              "                                                     [key], {});\n",
              "          if (!dataTable) return;\n",
              "\n",
              "          const docLinkHtml = 'Like what you see? Visit the ' +\n",
              "            '<a target=\"_blank\" href=https://colab.research.google.com/notebooks/data_table.ipynb>data table notebook</a>'\n",
              "            + ' to learn more about interactive tables.';\n",
              "          element.innerHTML = '';\n",
              "          dataTable['output_type'] = 'display_data';\n",
              "          await google.colab.output.renderOutput(dataTable, element);\n",
              "          const docLink = document.createElement('div');\n",
              "          docLink.innerHTML = docLinkHtml;\n",
              "          element.appendChild(docLink);\n",
              "        }\n",
              "      </script>\n",
              "    </div>\n",
              "  </div>\n",
              "  "
            ]
          },
          "metadata": {},
          "execution_count": 5
        }
      ]
    },
    {
      "cell_type": "code",
      "metadata": {
        "colab": {
          "base_uri": "https://localhost:8080/"
        },
        "id": "pvkGEonYM2En",
        "outputId": "17f39247-bea0-4745-ad02-5187bef3b8f9"
      },
      "source": [
        "dataFrame.info()"
      ],
      "execution_count": 6,
      "outputs": [
        {
          "output_type": "stream",
          "name": "stdout",
          "text": [
            "<class 'pandas.core.frame.DataFrame'>\n",
            "RangeIndex: 4240 entries, 0 to 4239\n",
            "Data columns (total 16 columns):\n",
            " #   Column           Non-Null Count  Dtype  \n",
            "---  ------           --------------  -----  \n",
            " 0   male             4240 non-null   int64  \n",
            " 1   age              4240 non-null   int64  \n",
            " 2   education        4135 non-null   float64\n",
            " 3   currentSmoker    4240 non-null   int64  \n",
            " 4   cigsPerDay       4211 non-null   float64\n",
            " 5   BPMeds           4187 non-null   float64\n",
            " 6   prevalentStroke  4240 non-null   int64  \n",
            " 7   prevalentHyp     4240 non-null   int64  \n",
            " 8   diabetes         4240 non-null   int64  \n",
            " 9   totChol          4190 non-null   float64\n",
            " 10  sysBP            4240 non-null   float64\n",
            " 11  diaBP            4240 non-null   float64\n",
            " 12  BMI              4221 non-null   float64\n",
            " 13  heartRate        4239 non-null   float64\n",
            " 14  glucose          3852 non-null   float64\n",
            " 15  TenYearCHD       4240 non-null   int64  \n",
            "dtypes: float64(9), int64(7)\n",
            "memory usage: 530.1 KB\n"
          ]
        }
      ]
    },
    {
      "cell_type": "code",
      "metadata": {
        "colab": {
          "base_uri": "https://localhost:8080/",
          "height": 364
        },
        "id": "zhf70g1xzNMd",
        "outputId": "ab959d60-b68e-4f3b-e1e9-92a1c6b8b0b4"
      },
      "source": [
        "dataFrame.describe()"
      ],
      "execution_count": 7,
      "outputs": [
        {
          "output_type": "execute_result",
          "data": {
            "text/plain": [
              "              male          age    education  currentSmoker   cigsPerDay  \\\n",
              "count  4240.000000  4240.000000  4135.000000    4240.000000  4211.000000   \n",
              "mean      0.429245    49.580189     1.979444       0.494104     9.005937   \n",
              "std       0.495027     8.572942     1.019791       0.500024    11.922462   \n",
              "min       0.000000    32.000000     1.000000       0.000000     0.000000   \n",
              "25%       0.000000    42.000000     1.000000       0.000000     0.000000   \n",
              "50%       0.000000    49.000000     2.000000       0.000000     0.000000   \n",
              "75%       1.000000    56.000000     3.000000       1.000000    20.000000   \n",
              "max       1.000000    70.000000     4.000000       1.000000    70.000000   \n",
              "\n",
              "            BPMeds  prevalentStroke  prevalentHyp     diabetes      totChol  \\\n",
              "count  4187.000000      4240.000000   4240.000000  4240.000000  4190.000000   \n",
              "mean      0.029615         0.005896      0.310613     0.025708   236.699523   \n",
              "std       0.169544         0.076569      0.462799     0.158280    44.591284   \n",
              "min       0.000000         0.000000      0.000000     0.000000   107.000000   \n",
              "25%       0.000000         0.000000      0.000000     0.000000   206.000000   \n",
              "50%       0.000000         0.000000      0.000000     0.000000   234.000000   \n",
              "75%       0.000000         0.000000      1.000000     0.000000   263.000000   \n",
              "max       1.000000         1.000000      1.000000     1.000000   696.000000   \n",
              "\n",
              "             sysBP        diaBP          BMI    heartRate      glucose  \\\n",
              "count  4240.000000  4240.000000  4221.000000  4239.000000  3852.000000   \n",
              "mean    132.354599    82.897759    25.800801    75.878981    81.963655   \n",
              "std      22.033300    11.910394     4.079840    12.025348    23.954335   \n",
              "min      83.500000    48.000000    15.540000    44.000000    40.000000   \n",
              "25%     117.000000    75.000000    23.070000    68.000000    71.000000   \n",
              "50%     128.000000    82.000000    25.400000    75.000000    78.000000   \n",
              "75%     144.000000    90.000000    28.040000    83.000000    87.000000   \n",
              "max     295.000000   142.500000    56.800000   143.000000   394.000000   \n",
              "\n",
              "        TenYearCHD  \n",
              "count  4240.000000  \n",
              "mean      0.151887  \n",
              "std       0.358953  \n",
              "min       0.000000  \n",
              "25%       0.000000  \n",
              "50%       0.000000  \n",
              "75%       0.000000  \n",
              "max       1.000000  "
            ],
            "text/html": [
              "\n",
              "  <div id=\"df-7d4bdca2-c3f6-4073-9681-ec68a5ac95d3\">\n",
              "    <div class=\"colab-df-container\">\n",
              "      <div>\n",
              "<style scoped>\n",
              "    .dataframe tbody tr th:only-of-type {\n",
              "        vertical-align: middle;\n",
              "    }\n",
              "\n",
              "    .dataframe tbody tr th {\n",
              "        vertical-align: top;\n",
              "    }\n",
              "\n",
              "    .dataframe thead th {\n",
              "        text-align: right;\n",
              "    }\n",
              "</style>\n",
              "<table border=\"1\" class=\"dataframe\">\n",
              "  <thead>\n",
              "    <tr style=\"text-align: right;\">\n",
              "      <th></th>\n",
              "      <th>male</th>\n",
              "      <th>age</th>\n",
              "      <th>education</th>\n",
              "      <th>currentSmoker</th>\n",
              "      <th>cigsPerDay</th>\n",
              "      <th>BPMeds</th>\n",
              "      <th>prevalentStroke</th>\n",
              "      <th>prevalentHyp</th>\n",
              "      <th>diabetes</th>\n",
              "      <th>totChol</th>\n",
              "      <th>sysBP</th>\n",
              "      <th>diaBP</th>\n",
              "      <th>BMI</th>\n",
              "      <th>heartRate</th>\n",
              "      <th>glucose</th>\n",
              "      <th>TenYearCHD</th>\n",
              "    </tr>\n",
              "  </thead>\n",
              "  <tbody>\n",
              "    <tr>\n",
              "      <th>count</th>\n",
              "      <td>4240.000000</td>\n",
              "      <td>4240.000000</td>\n",
              "      <td>4135.000000</td>\n",
              "      <td>4240.000000</td>\n",
              "      <td>4211.000000</td>\n",
              "      <td>4187.000000</td>\n",
              "      <td>4240.000000</td>\n",
              "      <td>4240.000000</td>\n",
              "      <td>4240.000000</td>\n",
              "      <td>4190.000000</td>\n",
              "      <td>4240.000000</td>\n",
              "      <td>4240.000000</td>\n",
              "      <td>4221.000000</td>\n",
              "      <td>4239.000000</td>\n",
              "      <td>3852.000000</td>\n",
              "      <td>4240.000000</td>\n",
              "    </tr>\n",
              "    <tr>\n",
              "      <th>mean</th>\n",
              "      <td>0.429245</td>\n",
              "      <td>49.580189</td>\n",
              "      <td>1.979444</td>\n",
              "      <td>0.494104</td>\n",
              "      <td>9.005937</td>\n",
              "      <td>0.029615</td>\n",
              "      <td>0.005896</td>\n",
              "      <td>0.310613</td>\n",
              "      <td>0.025708</td>\n",
              "      <td>236.699523</td>\n",
              "      <td>132.354599</td>\n",
              "      <td>82.897759</td>\n",
              "      <td>25.800801</td>\n",
              "      <td>75.878981</td>\n",
              "      <td>81.963655</td>\n",
              "      <td>0.151887</td>\n",
              "    </tr>\n",
              "    <tr>\n",
              "      <th>std</th>\n",
              "      <td>0.495027</td>\n",
              "      <td>8.572942</td>\n",
              "      <td>1.019791</td>\n",
              "      <td>0.500024</td>\n",
              "      <td>11.922462</td>\n",
              "      <td>0.169544</td>\n",
              "      <td>0.076569</td>\n",
              "      <td>0.462799</td>\n",
              "      <td>0.158280</td>\n",
              "      <td>44.591284</td>\n",
              "      <td>22.033300</td>\n",
              "      <td>11.910394</td>\n",
              "      <td>4.079840</td>\n",
              "      <td>12.025348</td>\n",
              "      <td>23.954335</td>\n",
              "      <td>0.358953</td>\n",
              "    </tr>\n",
              "    <tr>\n",
              "      <th>min</th>\n",
              "      <td>0.000000</td>\n",
              "      <td>32.000000</td>\n",
              "      <td>1.000000</td>\n",
              "      <td>0.000000</td>\n",
              "      <td>0.000000</td>\n",
              "      <td>0.000000</td>\n",
              "      <td>0.000000</td>\n",
              "      <td>0.000000</td>\n",
              "      <td>0.000000</td>\n",
              "      <td>107.000000</td>\n",
              "      <td>83.500000</td>\n",
              "      <td>48.000000</td>\n",
              "      <td>15.540000</td>\n",
              "      <td>44.000000</td>\n",
              "      <td>40.000000</td>\n",
              "      <td>0.000000</td>\n",
              "    </tr>\n",
              "    <tr>\n",
              "      <th>25%</th>\n",
              "      <td>0.000000</td>\n",
              "      <td>42.000000</td>\n",
              "      <td>1.000000</td>\n",
              "      <td>0.000000</td>\n",
              "      <td>0.000000</td>\n",
              "      <td>0.000000</td>\n",
              "      <td>0.000000</td>\n",
              "      <td>0.000000</td>\n",
              "      <td>0.000000</td>\n",
              "      <td>206.000000</td>\n",
              "      <td>117.000000</td>\n",
              "      <td>75.000000</td>\n",
              "      <td>23.070000</td>\n",
              "      <td>68.000000</td>\n",
              "      <td>71.000000</td>\n",
              "      <td>0.000000</td>\n",
              "    </tr>\n",
              "    <tr>\n",
              "      <th>50%</th>\n",
              "      <td>0.000000</td>\n",
              "      <td>49.000000</td>\n",
              "      <td>2.000000</td>\n",
              "      <td>0.000000</td>\n",
              "      <td>0.000000</td>\n",
              "      <td>0.000000</td>\n",
              "      <td>0.000000</td>\n",
              "      <td>0.000000</td>\n",
              "      <td>0.000000</td>\n",
              "      <td>234.000000</td>\n",
              "      <td>128.000000</td>\n",
              "      <td>82.000000</td>\n",
              "      <td>25.400000</td>\n",
              "      <td>75.000000</td>\n",
              "      <td>78.000000</td>\n",
              "      <td>0.000000</td>\n",
              "    </tr>\n",
              "    <tr>\n",
              "      <th>75%</th>\n",
              "      <td>1.000000</td>\n",
              "      <td>56.000000</td>\n",
              "      <td>3.000000</td>\n",
              "      <td>1.000000</td>\n",
              "      <td>20.000000</td>\n",
              "      <td>0.000000</td>\n",
              "      <td>0.000000</td>\n",
              "      <td>1.000000</td>\n",
              "      <td>0.000000</td>\n",
              "      <td>263.000000</td>\n",
              "      <td>144.000000</td>\n",
              "      <td>90.000000</td>\n",
              "      <td>28.040000</td>\n",
              "      <td>83.000000</td>\n",
              "      <td>87.000000</td>\n",
              "      <td>0.000000</td>\n",
              "    </tr>\n",
              "    <tr>\n",
              "      <th>max</th>\n",
              "      <td>1.000000</td>\n",
              "      <td>70.000000</td>\n",
              "      <td>4.000000</td>\n",
              "      <td>1.000000</td>\n",
              "      <td>70.000000</td>\n",
              "      <td>1.000000</td>\n",
              "      <td>1.000000</td>\n",
              "      <td>1.000000</td>\n",
              "      <td>1.000000</td>\n",
              "      <td>696.000000</td>\n",
              "      <td>295.000000</td>\n",
              "      <td>142.500000</td>\n",
              "      <td>56.800000</td>\n",
              "      <td>143.000000</td>\n",
              "      <td>394.000000</td>\n",
              "      <td>1.000000</td>\n",
              "    </tr>\n",
              "  </tbody>\n",
              "</table>\n",
              "</div>\n",
              "      <button class=\"colab-df-convert\" onclick=\"convertToInteractive('df-7d4bdca2-c3f6-4073-9681-ec68a5ac95d3')\"\n",
              "              title=\"Convert this dataframe to an interactive table.\"\n",
              "              style=\"display:none;\">\n",
              "        \n",
              "  <svg xmlns=\"http://www.w3.org/2000/svg\" height=\"24px\"viewBox=\"0 0 24 24\"\n",
              "       width=\"24px\">\n",
              "    <path d=\"M0 0h24v24H0V0z\" fill=\"none\"/>\n",
              "    <path d=\"M18.56 5.44l.94 2.06.94-2.06 2.06-.94-2.06-.94-.94-2.06-.94 2.06-2.06.94zm-11 1L8.5 8.5l.94-2.06 2.06-.94-2.06-.94L8.5 2.5l-.94 2.06-2.06.94zm10 10l.94 2.06.94-2.06 2.06-.94-2.06-.94-.94-2.06-.94 2.06-2.06.94z\"/><path d=\"M17.41 7.96l-1.37-1.37c-.4-.4-.92-.59-1.43-.59-.52 0-1.04.2-1.43.59L10.3 9.45l-7.72 7.72c-.78.78-.78 2.05 0 2.83L4 21.41c.39.39.9.59 1.41.59.51 0 1.02-.2 1.41-.59l7.78-7.78 2.81-2.81c.8-.78.8-2.07 0-2.86zM5.41 20L4 18.59l7.72-7.72 1.47 1.35L5.41 20z\"/>\n",
              "  </svg>\n",
              "      </button>\n",
              "      \n",
              "  <style>\n",
              "    .colab-df-container {\n",
              "      display:flex;\n",
              "      flex-wrap:wrap;\n",
              "      gap: 12px;\n",
              "    }\n",
              "\n",
              "    .colab-df-convert {\n",
              "      background-color: #E8F0FE;\n",
              "      border: none;\n",
              "      border-radius: 50%;\n",
              "      cursor: pointer;\n",
              "      display: none;\n",
              "      fill: #1967D2;\n",
              "      height: 32px;\n",
              "      padding: 0 0 0 0;\n",
              "      width: 32px;\n",
              "    }\n",
              "\n",
              "    .colab-df-convert:hover {\n",
              "      background-color: #E2EBFA;\n",
              "      box-shadow: 0px 1px 2px rgba(60, 64, 67, 0.3), 0px 1px 3px 1px rgba(60, 64, 67, 0.15);\n",
              "      fill: #174EA6;\n",
              "    }\n",
              "\n",
              "    [theme=dark] .colab-df-convert {\n",
              "      background-color: #3B4455;\n",
              "      fill: #D2E3FC;\n",
              "    }\n",
              "\n",
              "    [theme=dark] .colab-df-convert:hover {\n",
              "      background-color: #434B5C;\n",
              "      box-shadow: 0px 1px 3px 1px rgba(0, 0, 0, 0.15);\n",
              "      filter: drop-shadow(0px 1px 2px rgba(0, 0, 0, 0.3));\n",
              "      fill: #FFFFFF;\n",
              "    }\n",
              "  </style>\n",
              "\n",
              "      <script>\n",
              "        const buttonEl =\n",
              "          document.querySelector('#df-7d4bdca2-c3f6-4073-9681-ec68a5ac95d3 button.colab-df-convert');\n",
              "        buttonEl.style.display =\n",
              "          google.colab.kernel.accessAllowed ? 'block' : 'none';\n",
              "\n",
              "        async function convertToInteractive(key) {\n",
              "          const element = document.querySelector('#df-7d4bdca2-c3f6-4073-9681-ec68a5ac95d3');\n",
              "          const dataTable =\n",
              "            await google.colab.kernel.invokeFunction('convertToInteractive',\n",
              "                                                     [key], {});\n",
              "          if (!dataTable) return;\n",
              "\n",
              "          const docLinkHtml = 'Like what you see? Visit the ' +\n",
              "            '<a target=\"_blank\" href=https://colab.research.google.com/notebooks/data_table.ipynb>data table notebook</a>'\n",
              "            + ' to learn more about interactive tables.';\n",
              "          element.innerHTML = '';\n",
              "          dataTable['output_type'] = 'display_data';\n",
              "          await google.colab.output.renderOutput(dataTable, element);\n",
              "          const docLink = document.createElement('div');\n",
              "          docLink.innerHTML = docLinkHtml;\n",
              "          element.appendChild(docLink);\n",
              "        }\n",
              "      </script>\n",
              "    </div>\n",
              "  </div>\n",
              "  "
            ]
          },
          "metadata": {},
          "execution_count": 7
        }
      ]
    },
    {
      "cell_type": "markdown",
      "metadata": {
        "id": "E0ti5bXW2JZY"
      },
      "source": [
        "#### <font color=SeaGreen>Check duplicate/missing values<font><a name=check-dup></a>"
      ]
    },
    {
      "cell_type": "code",
      "metadata": {
        "colab": {
          "base_uri": "https://localhost:8080/",
          "height": 49
        },
        "id": "6I-kbdNbLi75",
        "outputId": "0ba1c7aa-1e43-48b5-acb1-6fe0f430d1c1"
      },
      "source": [
        "# check for dupicates\n",
        "dataFrame[dataFrame.duplicated()]\n"
      ],
      "execution_count": 8,
      "outputs": [
        {
          "output_type": "execute_result",
          "data": {
            "text/plain": [
              "Empty DataFrame\n",
              "Columns: [male, age, education, currentSmoker, cigsPerDay, BPMeds, prevalentStroke, prevalentHyp, diabetes, totChol, sysBP, diaBP, BMI, heartRate, glucose, TenYearCHD]\n",
              "Index: []"
            ],
            "text/html": [
              "\n",
              "  <div id=\"df-724b4d94-938b-4dd8-8cd4-318090398167\">\n",
              "    <div class=\"colab-df-container\">\n",
              "      <div>\n",
              "<style scoped>\n",
              "    .dataframe tbody tr th:only-of-type {\n",
              "        vertical-align: middle;\n",
              "    }\n",
              "\n",
              "    .dataframe tbody tr th {\n",
              "        vertical-align: top;\n",
              "    }\n",
              "\n",
              "    .dataframe thead th {\n",
              "        text-align: right;\n",
              "    }\n",
              "</style>\n",
              "<table border=\"1\" class=\"dataframe\">\n",
              "  <thead>\n",
              "    <tr style=\"text-align: right;\">\n",
              "      <th></th>\n",
              "      <th>male</th>\n",
              "      <th>age</th>\n",
              "      <th>education</th>\n",
              "      <th>currentSmoker</th>\n",
              "      <th>cigsPerDay</th>\n",
              "      <th>BPMeds</th>\n",
              "      <th>prevalentStroke</th>\n",
              "      <th>prevalentHyp</th>\n",
              "      <th>diabetes</th>\n",
              "      <th>totChol</th>\n",
              "      <th>sysBP</th>\n",
              "      <th>diaBP</th>\n",
              "      <th>BMI</th>\n",
              "      <th>heartRate</th>\n",
              "      <th>glucose</th>\n",
              "      <th>TenYearCHD</th>\n",
              "    </tr>\n",
              "  </thead>\n",
              "  <tbody>\n",
              "  </tbody>\n",
              "</table>\n",
              "</div>\n",
              "      <button class=\"colab-df-convert\" onclick=\"convertToInteractive('df-724b4d94-938b-4dd8-8cd4-318090398167')\"\n",
              "              title=\"Convert this dataframe to an interactive table.\"\n",
              "              style=\"display:none;\">\n",
              "        \n",
              "  <svg xmlns=\"http://www.w3.org/2000/svg\" height=\"24px\"viewBox=\"0 0 24 24\"\n",
              "       width=\"24px\">\n",
              "    <path d=\"M0 0h24v24H0V0z\" fill=\"none\"/>\n",
              "    <path d=\"M18.56 5.44l.94 2.06.94-2.06 2.06-.94-2.06-.94-.94-2.06-.94 2.06-2.06.94zm-11 1L8.5 8.5l.94-2.06 2.06-.94-2.06-.94L8.5 2.5l-.94 2.06-2.06.94zm10 10l.94 2.06.94-2.06 2.06-.94-2.06-.94-.94-2.06-.94 2.06-2.06.94z\"/><path d=\"M17.41 7.96l-1.37-1.37c-.4-.4-.92-.59-1.43-.59-.52 0-1.04.2-1.43.59L10.3 9.45l-7.72 7.72c-.78.78-.78 2.05 0 2.83L4 21.41c.39.39.9.59 1.41.59.51 0 1.02-.2 1.41-.59l7.78-7.78 2.81-2.81c.8-.78.8-2.07 0-2.86zM5.41 20L4 18.59l7.72-7.72 1.47 1.35L5.41 20z\"/>\n",
              "  </svg>\n",
              "      </button>\n",
              "      \n",
              "  <style>\n",
              "    .colab-df-container {\n",
              "      display:flex;\n",
              "      flex-wrap:wrap;\n",
              "      gap: 12px;\n",
              "    }\n",
              "\n",
              "    .colab-df-convert {\n",
              "      background-color: #E8F0FE;\n",
              "      border: none;\n",
              "      border-radius: 50%;\n",
              "      cursor: pointer;\n",
              "      display: none;\n",
              "      fill: #1967D2;\n",
              "      height: 32px;\n",
              "      padding: 0 0 0 0;\n",
              "      width: 32px;\n",
              "    }\n",
              "\n",
              "    .colab-df-convert:hover {\n",
              "      background-color: #E2EBFA;\n",
              "      box-shadow: 0px 1px 2px rgba(60, 64, 67, 0.3), 0px 1px 3px 1px rgba(60, 64, 67, 0.15);\n",
              "      fill: #174EA6;\n",
              "    }\n",
              "\n",
              "    [theme=dark] .colab-df-convert {\n",
              "      background-color: #3B4455;\n",
              "      fill: #D2E3FC;\n",
              "    }\n",
              "\n",
              "    [theme=dark] .colab-df-convert:hover {\n",
              "      background-color: #434B5C;\n",
              "      box-shadow: 0px 1px 3px 1px rgba(0, 0, 0, 0.15);\n",
              "      filter: drop-shadow(0px 1px 2px rgba(0, 0, 0, 0.3));\n",
              "      fill: #FFFFFF;\n",
              "    }\n",
              "  </style>\n",
              "\n",
              "      <script>\n",
              "        const buttonEl =\n",
              "          document.querySelector('#df-724b4d94-938b-4dd8-8cd4-318090398167 button.colab-df-convert');\n",
              "        buttonEl.style.display =\n",
              "          google.colab.kernel.accessAllowed ? 'block' : 'none';\n",
              "\n",
              "        async function convertToInteractive(key) {\n",
              "          const element = document.querySelector('#df-724b4d94-938b-4dd8-8cd4-318090398167');\n",
              "          const dataTable =\n",
              "            await google.colab.kernel.invokeFunction('convertToInteractive',\n",
              "                                                     [key], {});\n",
              "          if (!dataTable) return;\n",
              "\n",
              "          const docLinkHtml = 'Like what you see? Visit the ' +\n",
              "            '<a target=\"_blank\" href=https://colab.research.google.com/notebooks/data_table.ipynb>data table notebook</a>'\n",
              "            + ' to learn more about interactive tables.';\n",
              "          element.innerHTML = '';\n",
              "          dataTable['output_type'] = 'display_data';\n",
              "          await google.colab.output.renderOutput(dataTable, element);\n",
              "          const docLink = document.createElement('div');\n",
              "          docLink.innerHTML = docLinkHtml;\n",
              "          element.appendChild(docLink);\n",
              "        }\n",
              "      </script>\n",
              "    </div>\n",
              "  </div>\n",
              "  "
            ]
          },
          "metadata": {},
          "execution_count": 8
        }
      ]
    },
    {
      "cell_type": "markdown",
      "metadata": {
        "id": "rH0Y7_8VLpHo"
      },
      "source": [
        "there isn't any duplicate values\n"
      ]
    },
    {
      "cell_type": "code",
      "metadata": {
        "colab": {
          "base_uri": "https://localhost:8080/"
        },
        "id": "1NGQEn1CwjXo",
        "outputId": "25b3e20b-fde5-41b0-91b5-725d66b687fc"
      },
      "source": [
        "import torch\n",
        "T = torch.tensor([[3,0],[4,5],[1,7]])\n",
        "print(T.shape)\n",
        "print(T.transpose(1,0))"
      ],
      "execution_count": 9,
      "outputs": [
        {
          "output_type": "stream",
          "name": "stdout",
          "text": [
            "torch.Size([3, 2])\n",
            "tensor([[3, 4, 1],\n",
            "        [0, 5, 7]])\n"
          ]
        }
      ]
    },
    {
      "cell_type": "code",
      "metadata": {
        "colab": {
          "base_uri": "https://localhost:8080/"
        },
        "id": "LQwipIOMM5qy",
        "outputId": "c810f870-9ec4-45cc-cd35-a0dd2a4473fc"
      },
      "source": [
        "# Check for Missing values\n",
        "null_columns = dataFrame.columns[dataFrame.isnull().any()]\n",
        "print('null columns and the number of null values are respectively:')\n",
        "print(dataFrame[null_columns].isnull().sum())\n"
      ],
      "execution_count": 10,
      "outputs": [
        {
          "output_type": "stream",
          "name": "stdout",
          "text": [
            "null columns and the number of null values are respectively:\n",
            "education     105\n",
            "cigsPerDay     29\n",
            "BPMeds         53\n",
            "totChol        50\n",
            "BMI            19\n",
            "heartRate       1\n",
            "glucose       388\n",
            "dtype: int64\n"
          ]
        }
      ]
    },
    {
      "cell_type": "code",
      "metadata": {
        "colab": {
          "base_uri": "https://localhost:8080/",
          "height": 653
        },
        "id": "KwyYNwtve13f",
        "outputId": "1877d592-d73f-4237-94cc-cd5323a3a3d8"
      },
      "source": [
        "import missingno as msno\n",
        "msno.matrix(dataFrame)\n",
        "plt.title('Missingno Visualization', fontsize=30)"
      ],
      "execution_count": 12,
      "outputs": [
        {
          "output_type": "execute_result",
          "data": {
            "text/plain": [
              "Text(0.5, 1.0, 'Missingno Visualization')"
            ]
          },
          "metadata": {},
          "execution_count": 12
        },
        {
          "output_type": "display_data",
          "data": {
            "text/plain": [
              "<Figure size 1800x720 with 2 Axes>"
            ],
            "image/png": "[encoded data removed]"
          },
          "metadata": {
            "needs_background": "light"
          }
        }
      ]
    },
    {
      "cell_type": "code",
      "metadata": {
        "id": "svFm3L5MzAl9"
      },
      "source": [
        "# Function to calculate missing values by column\n",
        "def missing_values_table(df):\n",
        "        # Total missing values\n",
        "        mis_val = df.isnull().sum()\n",
        "        \n",
        "        # Percentage of missing values\n",
        "        mis_val_percent = 100 * df.isnull().sum() / len(df)\n",
        "        \n",
        "        # Make a table with the results\n",
        "        mis_val_table = pd.concat([mis_val, mis_val_percent], axis=1)\n",
        "        \n",
        "        # Rename the columns\n",
        "        mis_val_table_ren_columns = mis_val_table.rename(\n",
        "        columns = {0 : 'Missing Values', 1 : '% of Total Values'})\n",
        "        \n",
        "        # Sort the table by percentage of missing descending\n",
        "        mis_val_table_ren_columns = mis_val_table_ren_columns[\n",
        "            mis_val_table_ren_columns.iloc[:,1] != 0].sort_values(\n",
        "        '% of Total Values', ascending=False).round(1)\n",
        "        \n",
        "        # Print some summary information\n",
        "        print (\"Your selected dataframe has \" + str(df.shape[1]) + \" columns.\\n\"      \n",
        "            \"There are \" + str(mis_val_table_ren_columns.shape[0]) +\n",
        "              \" columns that have missing values.\")\n",
        "        \n",
        "        # Return the dataframe with missing information\n",
        "        return mis_val_table_ren_columns\n",
        "\n"
      ],
      "execution_count": 13,
      "outputs": []
    },
    {
      "cell_type": "code",
      "metadata": {
        "id": "CyZlqji30mQJ",
        "colab": {
          "base_uri": "https://localhost:8080/",
          "height": 303
        },
        "outputId": "48fc4ef3-4aaa-4742-cbc1-3978b7d2c03a"
      },
      "source": [
        "missing_values_table(dataFrame)"
      ],
      "execution_count": 14,
      "outputs": [
        {
          "output_type": "stream",
          "name": "stdout",
          "text": [
            "Your selected dataframe has 16 columns.\n",
            "There are 7 columns that have missing values.\n"
          ]
        },
        {
          "output_type": "execute_result",
          "data": {
            "text/plain": [
              "            Missing Values  % of Total Values\n",
              "glucose                388                9.2\n",
              "education              105                2.5\n",
              "BPMeds                  53                1.2\n",
              "totChol                 50                1.2\n",
              "cigsPerDay              29                0.7\n",
              "BMI                     19                0.4\n",
              "heartRate                1                0.0"
            ],
            "text/html": [
              "\n",
              "  <div id=\"df-9120bede-9305-46eb-92d9-46eb5c42f36f\">\n",
              "    <div class=\"colab-df-container\">\n",
              "      <div>\n",
              "<style scoped>\n",
              "    .dataframe tbody tr th:only-of-type {\n",
              "        vertical-align: middle;\n",
              "    }\n",
              "\n",
              "    .dataframe tbody tr th {\n",
              "        vertical-align: top;\n",
              "    }\n",
              "\n",
              "    .dataframe thead th {\n",
              "        text-align: right;\n",
              "    }\n",
              "</style>\n",
              "<table border=\"1\" class=\"dataframe\">\n",
              "  <thead>\n",
              "    <tr style=\"text-align: right;\">\n",
              "      <th></th>\n",
              "      <th>Missing Values</th>\n",
              "      <th>% of Total Values</th>\n",
              "    </tr>\n",
              "  </thead>\n",
              "  <tbody>\n",
              "    <tr>\n",
              "      <th>glucose</th>\n",
              "      <td>388</td>\n",
              "      <td>9.2</td>\n",
              "    </tr>\n",
              "    <tr>\n",
              "      <th>education</th>\n",
              "      <td>105</td>\n",
              "      <td>2.5</td>\n",
              "    </tr>\n",
              "    <tr>\n",
              "      <th>BPMeds</th>\n",
              "      <td>53</td>\n",
              "      <td>1.2</td>\n",
              "    </tr>\n",
              "    <tr>\n",
              "      <th>totChol</th>\n",
              "      <td>50</td>\n",
              "      <td>1.2</td>\n",
              "    </tr>\n",
              "    <tr>\n",
              "      <th>cigsPerDay</th>\n",
              "      <td>29</td>\n",
              "      <td>0.7</td>\n",
              "    </tr>\n",
              "    <tr>\n",
              "      <th>BMI</th>\n",
              "      <td>19</td>\n",
              "      <td>0.4</td>\n",
              "    </tr>\n",
              "    <tr>\n",
              "      <th>heartRate</th>\n",
              "      <td>1</td>\n",
              "      <td>0.0</td>\n",
              "    </tr>\n",
              "  </tbody>\n",
              "</table>\n",
              "</div>\n",
              "      <button class=\"colab-df-convert\" onclick=\"convertToInteractive('df-9120bede-9305-46eb-92d9-46eb5c42f36f')\"\n",
              "              title=\"Convert this dataframe to an interactive table.\"\n",
              "              style=\"display:none;\">\n",
              "        \n",
              "  <svg xmlns=\"http://www.w3.org/2000/svg\" height=\"24px\"viewBox=\"0 0 24 24\"\n",
              "       width=\"24px\">\n",
              "    <path d=\"M0 0h24v24H0V0z\" fill=\"none\"/>\n",
              "    <path d=\"M18.56 5.44l.94 2.06.94-2.06 2.06-.94-2.06-.94-.94-2.06-.94 2.06-2.06.94zm-11 1L8.5 8.5l.94-2.06 2.06-.94-2.06-.94L8.5 2.5l-.94 2.06-2.06.94zm10 10l.94 2.06.94-2.06 2.06-.94-2.06-.94-.94-2.06-.94 2.06-2.06.94z\"/><path d=\"M17.41 7.96l-1.37-1.37c-.4-.4-.92-.59-1.43-.59-.52 0-1.04.2-1.43.59L10.3 9.45l-7.72 7.72c-.78.78-.78 2.05 0 2.83L4 21.41c.39.39.9.59 1.41.59.51 0 1.02-.2 1.41-.59l7.78-7.78 2.81-2.81c.8-.78.8-2.07 0-2.86zM5.41 20L4 18.59l7.72-7.72 1.47 1.35L5.41 20z\"/>\n",
              "  </svg>\n",
              "      </button>\n",
              "      \n",
              "  <style>\n",
              "    .colab-df-container {\n",
              "      display:flex;\n",
              "      flex-wrap:wrap;\n",
              "      gap: 12px;\n",
              "    }\n",
              "\n",
              "    .colab-df-convert {\n",
              "      background-color: #E8F0FE;\n",
              "      border: none;\n",
              "      border-radius: 50%;\n",
              "      cursor: pointer;\n",
              "      display: none;\n",
              "      fill: #1967D2;\n",
              "      height: 32px;\n",
              "      padding: 0 0 0 0;\n",
              "      width: 32px;\n",
              "    }\n",
              "\n",
              "    .colab-df-convert:hover {\n",
              "      background-color: #E2EBFA;\n",
              "      box-shadow: 0px 1px 2px rgba(60, 64, 67, 0.3), 0px 1px 3px 1px rgba(60, 64, 67, 0.15);\n",
              "      fill: #174EA6;\n",
              "    }\n",
              "\n",
              "    [theme=dark] .colab-df-convert {\n",
              "      background-color: #3B4455;\n",
              "      fill: #D2E3FC;\n",
              "    }\n",
              "\n",
              "    [theme=dark] .colab-df-convert:hover {\n",
              "      background-color: #434B5C;\n",
              "      box-shadow: 0px 1px 3px 1px rgba(0, 0, 0, 0.15);\n",
              "      filter: drop-shadow(0px 1px 2px rgba(0, 0, 0, 0.3));\n",
              "      fill: #FFFFFF;\n",
              "    }\n",
              "  </style>\n",
              "\n",
              "      <script>\n",
              "        const buttonEl =\n",
              "          document.querySelector('#df-9120bede-9305-46eb-92d9-46eb5c42f36f button.colab-df-convert');\n",
              "        buttonEl.style.display =\n",
              "          google.colab.kernel.accessAllowed ? 'block' : 'none';\n",
              "\n",
              "        async function convertToInteractive(key) {\n",
              "          const element = document.querySelector('#df-9120bede-9305-46eb-92d9-46eb5c42f36f');\n",
              "          const dataTable =\n",
              "            await google.colab.kernel.invokeFunction('convertToInteractive',\n",
              "                                                     [key], {});\n",
              "          if (!dataTable) return;\n",
              "\n",
              "          const docLinkHtml = 'Like what you see? Visit the ' +\n",
              "            '<a target=\"_blank\" href=https://colab.research.google.com/notebooks/data_table.ipynb>data table notebook</a>'\n",
              "            + ' to learn more about interactive tables.';\n",
              "          element.innerHTML = '';\n",
              "          dataTable['output_type'] = 'display_data';\n",
              "          await google.colab.output.renderOutput(dataTable, element);\n",
              "          const docLink = document.createElement('div');\n",
              "          docLink.innerHTML = docLinkHtml;\n",
              "          element.appendChild(docLink);\n",
              "        }\n",
              "      </script>\n",
              "    </div>\n",
              "  </div>\n",
              "  "
            ]
          },
          "metadata": {},
          "execution_count": 14
        }
      ]
    },
    {
      "cell_type": "markdown",
      "metadata": {
        "id": "W2-cxVbJ4N9E"
      },
      "source": [
        "### <font color=SeaGreen>Imputation<font><a name=\"impute\"></a>"
      ]
    },
    {
      "cell_type": "markdown",
      "metadata": {
        "id": "q2XDvdOS8C3v"
      },
      "source": [
        "Apply the imputation to education"
      ]
    },
    {
      "cell_type": "code",
      "metadata": {
        "id": "Y8DmZ-Of4J_1"
      },
      "source": [
        "#Impute the 'education' using Simple imputer \n",
        "from sklearn.impute import SimpleImputer\n",
        "#Replacing the NaNs with the most-frequent sample\n",
        "imp = SimpleImputer(missing_values=np.nan,strategy=\"most_frequent\")\n",
        "imputed_education = imp.fit_transform(dataFrame.loc[:,['education']])\n",
        "dataFrame['education'] = imputed_education"
      ],
      "execution_count": 15,
      "outputs": []
    },
    {
      "cell_type": "markdown",
      "metadata": {
        "id": "BCu0aR2u74MT"
      },
      "source": [
        "Apply the imputation to cigsPerDay"
      ]
    },
    {
      "cell_type": "code",
      "metadata": {
        "id": "GJuZaEau6wpV"
      },
      "source": [
        "#Impute the 'cigsPerDay' using Simple imputer \n",
        "#Replacing the NaNs with the mean of samples\n",
        "imp = SimpleImputer(missing_values=np.nan,strategy=\"mean\")\n",
        "imputed_cigP = imp.fit_transform(dataFrame.loc[:,['cigsPerDay']])\n",
        "dataFrame['cigsPerDay'] = imputed_cigP"
      ],
      "execution_count": 16,
      "outputs": []
    },
    {
      "cell_type": "markdown",
      "metadata": {
        "id": "NYLyUicv8WRx"
      },
      "source": [
        "Apply the imputation to BPMeds"
      ]
    },
    {
      "cell_type": "code",
      "metadata": {
        "id": "Bs2iX-DJ8jEv"
      },
      "source": [
        "#Impute the 'BPMeds' using Simple imputer \n",
        "#Replacing the NaNs with the most-frequent sample\n",
        "imp = SimpleImputer(missing_values=np.nan,strategy=\"most_frequent\")\n",
        "imputed_BPMeds = imp.fit_transform(dataFrame.loc[:,['BPMeds']])\n",
        "dataFrame['BPMeds'] = imputed_BPMeds"
      ],
      "execution_count": 17,
      "outputs": []
    },
    {
      "cell_type": "markdown",
      "metadata": {
        "id": "ot8bPR9P9RDp"
      },
      "source": [
        "Apply the imputation to totChol"
      ]
    },
    {
      "cell_type": "code",
      "metadata": {
        "id": "T9AEPGVL9Wlk"
      },
      "source": [
        "#Impute the 'totChol' using Simple imputer \n",
        "#Replacing the NaNs with the mean of samples\n",
        "imp = SimpleImputer(missing_values=np.nan,strategy=\"mean\")\n",
        "imputed_totChol = imp.fit_transform(dataFrame.loc[:,['totChol']])\n",
        "dataFrame['totChol'] = imputed_totChol"
      ],
      "execution_count": 18,
      "outputs": []
    },
    {
      "cell_type": "markdown",
      "metadata": {
        "id": "82lfvZ1k9ylv"
      },
      "source": [
        "Apply the imputation to glucose"
      ]
    },
    {
      "cell_type": "code",
      "metadata": {
        "id": "AVw-FtF6931c"
      },
      "source": [
        "#Impute the 'glucose' using Simple imputer \n",
        "#Replacing the NaNs with the mean of samples\n",
        "imp = SimpleImputer(missing_values=np.nan,strategy=\"mean\")\n",
        "imputed_glucose = imp.fit_transform(dataFrame.loc[:,['glucose']])\n",
        "dataFrame['glucose'] = imputed_glucose"
      ],
      "execution_count": 19,
      "outputs": []
    },
    {
      "cell_type": "markdown",
      "metadata": {
        "id": "gVSj8Syf-3Jp"
      },
      "source": [
        "Since the number of NANs in the  BMI and hearRate is very low we can drop them out."
      ]
    },
    {
      "cell_type": "code",
      "metadata": {
        "colab": {
          "base_uri": "https://localhost:8080/"
        },
        "id": "ff4jsX_o-Soj",
        "outputId": "82d69cfb-cd70-40a5-cc61-2c2a1b98c140"
      },
      "source": [
        "dataFrame.dropna(axis=0,inplace=True)\n",
        "dataFrame.isna().sum()"
      ],
      "execution_count": 20,
      "outputs": [
        {
          "output_type": "execute_result",
          "data": {
            "text/plain": [
              "male               0\n",
              "age                0\n",
              "education          0\n",
              "currentSmoker      0\n",
              "cigsPerDay         0\n",
              "BPMeds             0\n",
              "prevalentStroke    0\n",
              "prevalentHyp       0\n",
              "diabetes           0\n",
              "totChol            0\n",
              "sysBP              0\n",
              "diaBP              0\n",
              "BMI                0\n",
              "heartRate          0\n",
              "glucose            0\n",
              "TenYearCHD         0\n",
              "dtype: int64"
            ]
          },
          "metadata": {},
          "execution_count": 20
        }
      ]
    },
    {
      "cell_type": "markdown",
      "metadata": {
        "id": "Wq0ODB1HJykZ"
      },
      "source": [
        "### <font color=SeaGreen>Distribution and Correlation<font><a name=\"figure\"></a>"
      ]
    },
    {
      "cell_type": "code",
      "metadata": {
        "colab": {
          "base_uri": "https://localhost:8080/",
          "height": 1000
        },
        "id": "v1Guh186J5Zg",
        "outputId": "e1548768-cc32-4d68-edb3-b62d605da224"
      },
      "source": [
        "fig=plt.figure(figsize=(16,16))\n",
        "for index, column in enumerate(dataFrame.columns):\n",
        "    ax=fig.add_subplot(4,4,index+1)\n",
        "    dataFrame[column].hist(bins=20,ax=ax,facecolor='LightSeaGreen')\n",
        "    ax.set_title(column + \" distribution\",color='darkred')\n",
        "          \n",
        "fig.tight_layout()  \n",
        "plt.show()\n"
      ],
      "execution_count": 22,
      "outputs": [
        {
          "output_type": "display_data",
          "data": {
            "text/plain": [
              "<Figure size 1152x1152 with 16 Axes>"
            ],
            "image/png": "[encoded data removed]"
          },
          "metadata": {
            "needs_background": "light"
          }
        }
      ]
    },
    {
      "cell_type": "markdown",
      "metadata": {
        "id": "qH2WPOS-FobS"
      },
      "source": [
        "Observation:\n",
        "\n",
        ">cigsPerDay is not normally distributed. Seems to have multiple peaks.\n",
        "age is not normally distributed. Most age is in the range 40 to 60.\n",
        "remaining numerical features seems to follow normal distribution, but there are long tails in glucose, heartRate."
      ]
    },
    {
      "cell_type": "markdown",
      "metadata": {
        "id": "3UAXM2FhDRMm"
      },
      "source": [
        "Correlation\n",
        ">Checking which features are correlated with each other and/or the outcome variable"
      ]
    },
    {
      "cell_type": "code",
      "metadata": {
        "colab": {
          "base_uri": "https://localhost:8080/",
          "height": 1000
        },
        "id": "yK7i_kVqL1up",
        "outputId": "a1f8b81c-4042-48e9-a9da-31d81ae89fc7"
      },
      "source": [
        "f, ax = plt.subplots(figsize=(16,16))\n",
        "sn.heatmap(dataFrame.corr(), annot = True, ax = ax)"
      ],
      "execution_count": 23,
      "outputs": [
        {
          "output_type": "execute_result",
          "data": {
            "text/plain": [
              "<matplotlib.axes._subplots.AxesSubplot at 0x7fcc87dbcc90>"
            ]
          },
          "metadata": {},
          "execution_count": 23
        },
        {
          "output_type": "display_data",
          "data": {
            "text/plain": [
              "<Figure size 1152x1152 with 2 Axes>"
            ],
            "image/png": "[encoded data removed]"
          },
          "metadata": {
            "needs_background": "light"
          }
        }
      ]
    },
    {
      "cell_type": "markdown",
      "metadata": {
        "id": "02hzGpbwMv6V"
      },
      "source": [
        "\n",
        "Observation:\n",
        ">There seems to be a decently strong correlation between sysBP and diaBP\n",
        "\n"
      ]
    },
    {
      "cell_type": "markdown",
      "metadata": {
        "id": "7GGyT6RnEhtR"
      },
      "source": [
        " ### <font color=SeaGreen>Check the outliers</font><a name=\"outlier\"></a>\n",
        " ---\n",
        " Before putting our data through machine learning algorithms we should make sure:\n",
        "\n",
        "1.   Our data does not have any outliers.<br>\n",
        "2.   Our data is not highly skewed.\n",
        "3.   There is no multi-collinearity in our data.\n"
      ]
    },
    {
      "cell_type": "code",
      "metadata": {
        "colab": {
          "base_uri": "https://localhost:8080/",
          "height": 987
        },
        "id": "pv7Ty57-H3cP",
        "outputId": "35b29da4-56d9-4933-993e-e44ba44b1e4a"
      },
      "source": [
        "# To check for outliers, we are plotting a box-whisker plot.\n",
        "plt.figure(figsize=(16,16), facecolor='w')\n",
        "sn.boxplot(data=dataFrame)\n",
        "plt.xticks(rotation = 90)\n",
        "plt.show()"
      ],
      "execution_count": 24,
      "outputs": [
        {
          "output_type": "display_data",
          "data": {
            "text/plain": [
              "<Figure size 1152x1152 with 1 Axes>"
            ],
            "image/png": "[encoded data removed]"
          },
          "metadata": {}
        }
      ]
    },
    {
      "cell_type": "markdown",
      "metadata": {
        "id": "d8Ri6D3EMF4U"
      },
      "source": [
        "lets take a closer look at by excluding some of the columns from the plot in order to zooming in to some information\n"
      ]
    },
    {
      "cell_type": "code",
      "metadata": {
        "colab": {
          "base_uri": "https://localhost:8080/",
          "height": 826
        },
        "id": "KSDW6T2VMRsx",
        "outputId": "74231146-35b9-4410-f77b-13a4036fe199"
      },
      "source": [
        "# To check for outliers, we are plotting a box-whisker plot.\n",
        "plt.figure(figsize=(12,14), facecolor='w')\n",
        "sn.boxplot(data=dataFrame[['totChol','sysBP', 'glucose']])\n"
      ],
      "execution_count": 25,
      "outputs": [
        {
          "output_type": "execute_result",
          "data": {
            "text/plain": [
              "<matplotlib.axes._subplots.AxesSubplot at 0x7fcc87ae2e10>"
            ]
          },
          "metadata": {},
          "execution_count": 25
        },
        {
          "output_type": "display_data",
          "data": {
            "text/plain": [
              "<Figure size 864x1008 with 1 Axes>"
            ],
            "image/png": "[encoded data removed]"
          },
          "metadata": {}
        }
      ]
    },
    {
      "cell_type": "markdown",
      "metadata": {
        "id": "dZlquMGuIUER"
      },
      "source": [
        ">From the generated boxplot we can conclude:\n",
        "We have outliers in the following columns: totChol, sysBP glucose. in the general view of the boxplot there has also seen some other outliers.<br>\n",
        "As the assumption states that there should be no outliers in our data, we will try to manipulate the data to fit in our range."
      ]
    },
    {
      "cell_type": "markdown",
      "metadata": {
        "id": "FXw4CpXnawcv"
      },
      "source": [
        " ##### <font color=SeaGreen>Outliers in ***totChol***"
      ]
    },
    {
      "cell_type": "code",
      "metadata": {
        "colab": {
          "base_uri": "https://localhost:8080/",
          "height": 296
        },
        "id": "AiF-z-jDOh1K",
        "outputId": "d19ed711-3c32-4526-fd06-be626968b73e"
      },
      "source": [
        "sn.boxplot(dataFrame.totChol)"
      ],
      "execution_count": 26,
      "outputs": [
        {
          "output_type": "execute_result",
          "data": {
            "text/plain": [
              "<matplotlib.axes._subplots.AxesSubplot at 0x7fcc87855cd0>"
            ]
          },
          "metadata": {},
          "execution_count": 26
        },
        {
          "output_type": "display_data",
          "data": {
            "text/plain": [
              "<Figure size 432x288 with 1 Axes>"
            ],
            "image/png": "[encoded data removed]"
          },
          "metadata": {
            "needs_background": "light"
          }
        }
      ]
    },
    {
      "cell_type": "code",
      "metadata": {
        "colab": {
          "base_uri": "https://localhost:8080/",
          "height": 112
        },
        "id": "0EDExeSMQkTP",
        "outputId": "9795d8a3-12bf-46ab-e061-54229187ea2c"
      },
      "source": [
        "outliers_chol = dataFrame[(dataFrame['totChol'] > 500)] \n",
        "outliers_chol"
      ],
      "execution_count": 27,
      "outputs": [
        {
          "output_type": "execute_result",
          "data": {
            "text/plain": [
              "      male  age  education  currentSmoker  cigsPerDay  BPMeds  \\\n",
              "1111     0   52        2.0              0         0.0     0.0   \n",
              "3160     1   51        1.0              1         9.0     0.0   \n",
              "\n",
              "      prevalentStroke  prevalentHyp  diabetes  totChol  sysBP  diaBP    BMI  \\\n",
              "1111                0             1         1    600.0  159.5   94.0  28.27   \n",
              "3160                0             1         0    696.0  157.0   87.0  24.44   \n",
              "\n",
              "      heartRate  glucose  TenYearCHD  \n",
              "1111       78.0    140.0           1  \n",
              "3160       95.0     84.0           0  "
            ],
            "text/html": [
              "\n",
              "  <div id=\"df-8e020125-0eea-4d54-92ba-5a41a15881f4\">\n",
              "    <div class=\"colab-df-container\">\n",
              "      <div>\n",
              "<style scoped>\n",
              "    .dataframe tbody tr th:only-of-type {\n",
              "        vertical-align: middle;\n",
              "    }\n",
              "\n",
              "    .dataframe tbody tr th {\n",
              "        vertical-align: top;\n",
              "    }\n",
              "\n",
              "    .dataframe thead th {\n",
              "        text-align: right;\n",
              "    }\n",
              "</style>\n",
              "<table border=\"1\" class=\"dataframe\">\n",
              "  <thead>\n",
              "    <tr style=\"text-align: right;\">\n",
              "      <th></th>\n",
              "      <th>male</th>\n",
              "      <th>age</th>\n",
              "      <th>education</th>\n",
              "      <th>currentSmoker</th>\n",
              "      <th>cigsPerDay</th>\n",
              "      <th>BPMeds</th>\n",
              "      <th>prevalentStroke</th>\n",
              "      <th>prevalentHyp</th>\n",
              "      <th>diabetes</th>\n",
              "      <th>totChol</th>\n",
              "      <th>sysBP</th>\n",
              "      <th>diaBP</th>\n",
              "      <th>BMI</th>\n",
              "      <th>heartRate</th>\n",
              "      <th>glucose</th>\n",
              "      <th>TenYearCHD</th>\n",
              "    </tr>\n",
              "  </thead>\n",
              "  <tbody>\n",
              "    <tr>\n",
              "      <th>1111</th>\n",
              "      <td>0</td>\n",
              "      <td>52</td>\n",
              "      <td>2.0</td>\n",
              "      <td>0</td>\n",
              "      <td>0.0</td>\n",
              "      <td>0.0</td>\n",
              "      <td>0</td>\n",
              "      <td>1</td>\n",
              "      <td>1</td>\n",
              "      <td>600.0</td>\n",
              "      <td>159.5</td>\n",
              "      <td>94.0</td>\n",
              "      <td>28.27</td>\n",
              "      <td>78.0</td>\n",
              "      <td>140.0</td>\n",
              "      <td>1</td>\n",
              "    </tr>\n",
              "    <tr>\n",
              "      <th>3160</th>\n",
              "      <td>1</td>\n",
              "      <td>51</td>\n",
              "      <td>1.0</td>\n",
              "      <td>1</td>\n",
              "      <td>9.0</td>\n",
              "      <td>0.0</td>\n",
              "      <td>0</td>\n",
              "      <td>1</td>\n",
              "      <td>0</td>\n",
              "      <td>696.0</td>\n",
              "      <td>157.0</td>\n",
              "      <td>87.0</td>\n",
              "      <td>24.44</td>\n",
              "      <td>95.0</td>\n",
              "      <td>84.0</td>\n",
              "      <td>0</td>\n",
              "    </tr>\n",
              "  </tbody>\n",
              "</table>\n",
              "</div>\n",
              "      <button class=\"colab-df-convert\" onclick=\"convertToInteractive('df-8e020125-0eea-4d54-92ba-5a41a15881f4')\"\n",
              "              title=\"Convert this dataframe to an interactive table.\"\n",
              "              style=\"display:none;\">\n",
              "        \n",
              "  <svg xmlns=\"http://www.w3.org/2000/svg\" height=\"24px\"viewBox=\"0 0 24 24\"\n",
              "       width=\"24px\">\n",
              "    <path d=\"M0 0h24v24H0V0z\" fill=\"none\"/>\n",
              "    <path d=\"M18.56 5.44l.94 2.06.94-2.06 2.06-.94-2.06-.94-.94-2.06-.94 2.06-2.06.94zm-11 1L8.5 8.5l.94-2.06 2.06-.94-2.06-.94L8.5 2.5l-.94 2.06-2.06.94zm10 10l.94 2.06.94-2.06 2.06-.94-2.06-.94-.94-2.06-.94 2.06-2.06.94z\"/><path d=\"M17.41 7.96l-1.37-1.37c-.4-.4-.92-.59-1.43-.59-.52 0-1.04.2-1.43.59L10.3 9.45l-7.72 7.72c-.78.78-.78 2.05 0 2.83L4 21.41c.39.39.9.59 1.41.59.51 0 1.02-.2 1.41-.59l7.78-7.78 2.81-2.81c.8-.78.8-2.07 0-2.86zM5.41 20L4 18.59l7.72-7.72 1.47 1.35L5.41 20z\"/>\n",
              "  </svg>\n",
              "      </button>\n",
              "      \n",
              "  <style>\n",
              "    .colab-df-container {\n",
              "      display:flex;\n",
              "      flex-wrap:wrap;\n",
              "      gap: 12px;\n",
              "    }\n",
              "\n",
              "    .colab-df-convert {\n",
              "      background-color: #E8F0FE;\n",
              "      border: none;\n",
              "      border-radius: 50%;\n",
              "      cursor: pointer;\n",
              "      display: none;\n",
              "      fill: #1967D2;\n",
              "      height: 32px;\n",
              "      padding: 0 0 0 0;\n",
              "      width: 32px;\n",
              "    }\n",
              "\n",
              "    .colab-df-convert:hover {\n",
              "      background-color: #E2EBFA;\n",
              "      box-shadow: 0px 1px 2px rgba(60, 64, 67, 0.3), 0px 1px 3px 1px rgba(60, 64, 67, 0.15);\n",
              "      fill: #174EA6;\n",
              "    }\n",
              "\n",
              "    [theme=dark] .colab-df-convert {\n",
              "      background-color: #3B4455;\n",
              "      fill: #D2E3FC;\n",
              "    }\n",
              "\n",
              "    [theme=dark] .colab-df-convert:hover {\n",
              "      background-color: #434B5C;\n",
              "      box-shadow: 0px 1px 3px 1px rgba(0, 0, 0, 0.15);\n",
              "      filter: drop-shadow(0px 1px 2px rgba(0, 0, 0, 0.3));\n",
              "      fill: #FFFFFF;\n",
              "    }\n",
              "  </style>\n",
              "\n",
              "      <script>\n",
              "        const buttonEl =\n",
              "          document.querySelector('#df-8e020125-0eea-4d54-92ba-5a41a15881f4 button.colab-df-convert');\n",
              "        buttonEl.style.display =\n",
              "          google.colab.kernel.accessAllowed ? 'block' : 'none';\n",
              "\n",
              "        async function convertToInteractive(key) {\n",
              "          const element = document.querySelector('#df-8e020125-0eea-4d54-92ba-5a41a15881f4');\n",
              "          const dataTable =\n",
              "            await google.colab.kernel.invokeFunction('convertToInteractive',\n",
              "                                                     [key], {});\n",
              "          if (!dataTable) return;\n",
              "\n",
              "          const docLinkHtml = 'Like what you see? Visit the ' +\n",
              "            '<a target=\"_blank\" href=https://colab.research.google.com/notebooks/data_table.ipynb>data table notebook</a>'\n",
              "            + ' to learn more about interactive tables.';\n",
              "          element.innerHTML = '';\n",
              "          dataTable['output_type'] = 'display_data';\n",
              "          await google.colab.output.renderOutput(dataTable, element);\n",
              "          const docLink = document.createElement('div');\n",
              "          docLink.innerHTML = docLinkHtml;\n",
              "          element.appendChild(docLink);\n",
              "        }\n",
              "      </script>\n",
              "    </div>\n",
              "  </div>\n",
              "  "
            ]
          },
          "metadata": {},
          "execution_count": 27
        }
      ]
    },
    {
      "cell_type": "code",
      "metadata": {
        "colab": {
          "base_uri": "https://localhost:8080/",
          "height": 296
        },
        "id": "2BpV1bLVOudC",
        "outputId": "87aef367-1f28-42af-c7e4-7ef8d5c167da"
      },
      "source": [
        "# Dropping 2 outliers in cholesterin\n",
        "dataFrame = dataFrame.drop(dataFrame[dataFrame.totChol > 500].index)\n",
        "sn.boxplot(dataFrame.totChol)"
      ],
      "execution_count": 28,
      "outputs": [
        {
          "output_type": "execute_result",
          "data": {
            "text/plain": [
              "<matplotlib.axes._subplots.AxesSubplot at 0x7fcc8780b2d0>"
            ]
          },
          "metadata": {},
          "execution_count": 28
        },
        {
          "output_type": "display_data",
          "data": {
            "text/plain": [
              "<Figure size 432x288 with 1 Axes>"
            ],
            "image/png": "[encoded data removed]"
          },
          "metadata": {
            "needs_background": "light"
          }
        }
      ]
    },
    {
      "cell_type": "markdown",
      "metadata": {
        "id": "RN1C-BRMbHTn"
      },
      "source": [
        "##### <font color=SeaGreen>Outliers in ***sysBP***"
      ]
    },
    {
      "cell_type": "code",
      "metadata": {
        "colab": {
          "base_uri": "https://localhost:8080/",
          "height": 296
        },
        "id": "pejM1rnmQ4WJ",
        "outputId": "0268bb32-2cbd-46c1-d718-935d35d8b5d6"
      },
      "source": [
        "sn.boxplot(dataFrame.sysBP)"
      ],
      "execution_count": 29,
      "outputs": [
        {
          "output_type": "execute_result",
          "data": {
            "text/plain": [
              "<matplotlib.axes._subplots.AxesSubplot at 0x7fcc877bc1d0>"
            ]
          },
          "metadata": {},
          "execution_count": 29
        },
        {
          "output_type": "display_data",
          "data": {
            "text/plain": [
              "<Figure size 432x288 with 1 Axes>"
            ],
            "image/png": "[encoded data removed]"
          },
          "metadata": {
            "needs_background": "light"
          }
        }
      ]
    },
    {
      "cell_type": "code",
      "metadata": {
        "colab": {
          "base_uri": "https://localhost:8080/",
          "height": 80
        },
        "id": "B8UfgS0aXG8Z",
        "outputId": "f2d56825-a711-4019-daa9-2a8f784c85f4"
      },
      "source": [
        "outliers_sysBP = dataFrame[(dataFrame['sysBP'] > 250)] \n",
        "outliers_sysBP"
      ],
      "execution_count": 30,
      "outputs": [
        {
          "output_type": "execute_result",
          "data": {
            "text/plain": [
              "     male  age  education  currentSmoker  cigsPerDay  BPMeds  prevalentStroke  \\\n",
              "481     0   64        1.0              0         0.0     0.0                0   \n",
              "\n",
              "     prevalentHyp  diabetes  totChol  sysBP  diaBP    BMI  heartRate  glucose  \\\n",
              "481             1         0    253.0  295.0  135.0  38.82       92.0     70.0   \n",
              "\n",
              "     TenYearCHD  \n",
              "481           1  "
            ],
            "text/html": [
              "\n",
              "  <div id=\"df-ec226c3f-47de-4eb6-b70f-d7503d51894c\">\n",
              "    <div class=\"colab-df-container\">\n",
              "      <div>\n",
              "<style scoped>\n",
              "    .dataframe tbody tr th:only-of-type {\n",
              "        vertical-align: middle;\n",
              "    }\n",
              "\n",
              "    .dataframe tbody tr th {\n",
              "        vertical-align: top;\n",
              "    }\n",
              "\n",
              "    .dataframe thead th {\n",
              "        text-align: right;\n",
              "    }\n",
              "</style>\n",
              "<table border=\"1\" class=\"dataframe\">\n",
              "  <thead>\n",
              "    <tr style=\"text-align: right;\">\n",
              "      <th></th>\n",
              "      <th>male</th>\n",
              "      <th>age</th>\n",
              "      <th>education</th>\n",
              "      <th>currentSmoker</th>\n",
              "      <th>cigsPerDay</th>\n",
              "      <th>BPMeds</th>\n",
              "      <th>prevalentStroke</th>\n",
              "      <th>prevalentHyp</th>\n",
              "      <th>diabetes</th>\n",
              "      <th>totChol</th>\n",
              "      <th>sysBP</th>\n",
              "      <th>diaBP</th>\n",
              "      <th>BMI</th>\n",
              "      <th>heartRate</th>\n",
              "      <th>glucose</th>\n",
              "      <th>TenYearCHD</th>\n",
              "    </tr>\n",
              "  </thead>\n",
              "  <tbody>\n",
              "    <tr>\n",
              "      <th>481</th>\n",
              "      <td>0</td>\n",
              "      <td>64</td>\n",
              "      <td>1.0</td>\n",
              "      <td>0</td>\n",
              "      <td>0.0</td>\n",
              "      <td>0.0</td>\n",
              "      <td>0</td>\n",
              "      <td>1</td>\n",
              "      <td>0</td>\n",
              "      <td>253.0</td>\n",
              "      <td>295.0</td>\n",
              "      <td>135.0</td>\n",
              "      <td>38.82</td>\n",
              "      <td>92.0</td>\n",
              "      <td>70.0</td>\n",
              "      <td>1</td>\n",
              "    </tr>\n",
              "  </tbody>\n",
              "</table>\n",
              "</div>\n",
              "      <button class=\"colab-df-convert\" onclick=\"convertToInteractive('df-ec226c3f-47de-4eb6-b70f-d7503d51894c')\"\n",
              "              title=\"Convert this dataframe to an interactive table.\"\n",
              "              style=\"display:none;\">\n",
              "        \n",
              "  <svg xmlns=\"http://www.w3.org/2000/svg\" height=\"24px\"viewBox=\"0 0 24 24\"\n",
              "       width=\"24px\">\n",
              "    <path d=\"M0 0h24v24H0V0z\" fill=\"none\"/>\n",
              "    <path d=\"M18.56 5.44l.94 2.06.94-2.06 2.06-.94-2.06-.94-.94-2.06-.94 2.06-2.06.94zm-11 1L8.5 8.5l.94-2.06 2.06-.94-2.06-.94L8.5 2.5l-.94 2.06-2.06.94zm10 10l.94 2.06.94-2.06 2.06-.94-2.06-.94-.94-2.06-.94 2.06-2.06.94z\"/><path d=\"M17.41 7.96l-1.37-1.37c-.4-.4-.92-.59-1.43-.59-.52 0-1.04.2-1.43.59L10.3 9.45l-7.72 7.72c-.78.78-.78 2.05 0 2.83L4 21.41c.39.39.9.59 1.41.59.51 0 1.02-.2 1.41-.59l7.78-7.78 2.81-2.81c.8-.78.8-2.07 0-2.86zM5.41 20L4 18.59l7.72-7.72 1.47 1.35L5.41 20z\"/>\n",
              "  </svg>\n",
              "      </button>\n",
              "      \n",
              "  <style>\n",
              "    .colab-df-container {\n",
              "      display:flex;\n",
              "      flex-wrap:wrap;\n",
              "      gap: 12px;\n",
              "    }\n",
              "\n",
              "    .colab-df-convert {\n",
              "      background-color: #E8F0FE;\n",
              "      border: none;\n",
              "      border-radius: 50%;\n",
              "      cursor: pointer;\n",
              "      display: none;\n",
              "      fill: #1967D2;\n",
              "      height: 32px;\n",
              "      padding: 0 0 0 0;\n",
              "      width: 32px;\n",
              "    }\n",
              "\n",
              "    .colab-df-convert:hover {\n",
              "      background-color: #E2EBFA;\n",
              "      box-shadow: 0px 1px 2px rgba(60, 64, 67, 0.3), 0px 1px 3px 1px rgba(60, 64, 67, 0.15);\n",
              "      fill: #174EA6;\n",
              "    }\n",
              "\n",
              "    [theme=dark] .colab-df-convert {\n",
              "      background-color: #3B4455;\n",
              "      fill: #D2E3FC;\n",
              "    }\n",
              "\n",
              "    [theme=dark] .colab-df-convert:hover {\n",
              "      background-color: #434B5C;\n",
              "      box-shadow: 0px 1px 3px 1px rgba(0, 0, 0, 0.15);\n",
              "      filter: drop-shadow(0px 1px 2px rgba(0, 0, 0, 0.3));\n",
              "      fill: #FFFFFF;\n",
              "    }\n",
              "  </style>\n",
              "\n",
              "      <script>\n",
              "        const buttonEl =\n",
              "          document.querySelector('#df-ec226c3f-47de-4eb6-b70f-d7503d51894c button.colab-df-convert');\n",
              "        buttonEl.style.display =\n",
              "          google.colab.kernel.accessAllowed ? 'block' : 'none';\n",
              "\n",
              "        async function convertToInteractive(key) {\n",
              "          const element = document.querySelector('#df-ec226c3f-47de-4eb6-b70f-d7503d51894c');\n",
              "          const dataTable =\n",
              "            await google.colab.kernel.invokeFunction('convertToInteractive',\n",
              "                                                     [key], {});\n",
              "          if (!dataTable) return;\n",
              "\n",
              "          const docLinkHtml = 'Like what you see? Visit the ' +\n",
              "            '<a target=\"_blank\" href=https://colab.research.google.com/notebooks/data_table.ipynb>data table notebook</a>'\n",
              "            + ' to learn more about interactive tables.';\n",
              "          element.innerHTML = '';\n",
              "          dataTable['output_type'] = 'display_data';\n",
              "          await google.colab.output.renderOutput(dataTable, element);\n",
              "          const docLink = document.createElement('div');\n",
              "          docLink.innerHTML = docLinkHtml;\n",
              "          element.appendChild(docLink);\n",
              "        }\n",
              "      </script>\n",
              "    </div>\n",
              "  </div>\n",
              "  "
            ]
          },
          "metadata": {},
          "execution_count": 30
        }
      ]
    },
    {
      "cell_type": "code",
      "metadata": {
        "colab": {
          "base_uri": "https://localhost:8080/",
          "height": 296
        },
        "id": "H9KS2rIYXVo5",
        "outputId": "32c29ee4-3789-4f16-e690-bfb8c5bfe7bb"
      },
      "source": [
        "# Dropping 1 outliers in sysBp\n",
        "dataFrame = dataFrame.drop(dataFrame[dataFrame.sysBP > 250].index)\n",
        "sn.boxplot(dataFrame.sysBP)"
      ],
      "execution_count": 31,
      "outputs": [
        {
          "output_type": "execute_result",
          "data": {
            "text/plain": [
              "<matplotlib.axes._subplots.AxesSubplot at 0x7fcc87716650>"
            ]
          },
          "metadata": {},
          "execution_count": 31
        },
        {
          "output_type": "display_data",
          "data": {
            "text/plain": [
              "<Figure size 432x288 with 1 Axes>"
            ],
            "image/png": "[encoded data removed]"
          },
          "metadata": {
            "needs_background": "light"
          }
        }
      ]
    },
    {
      "cell_type": "markdown",
      "metadata": {
        "id": "xOgVqUsmbZ53"
      },
      "source": [
        " ##### <font color=SeaGreen>Outliers in ***glucose***"
      ]
    },
    {
      "cell_type": "code",
      "metadata": {
        "colab": {
          "base_uri": "https://localhost:8080/",
          "height": 296
        },
        "id": "8svKg5E1YWHl",
        "outputId": "2fa7f9e0-f5d9-490a-e12e-a628b5479c29"
      },
      "source": [
        "sn.boxplot(dataFrame.glucose)"
      ],
      "execution_count": 32,
      "outputs": [
        {
          "output_type": "execute_result",
          "data": {
            "text/plain": [
              "<matplotlib.axes._subplots.AxesSubplot at 0x7fcc8767a810>"
            ]
          },
          "metadata": {},
          "execution_count": 32
        },
        {
          "output_type": "display_data",
          "data": {
            "text/plain": [
              "<Figure size 432x288 with 1 Axes>"
            ],
            "image/png": "[encoded data removed]"
          },
          "metadata": {
            "needs_background": "light"
          }
        }
      ]
    },
    {
      "cell_type": "code",
      "metadata": {
        "id": "8-ACmkeNYh3h",
        "colab": {
          "base_uri": "https://localhost:8080/",
          "height": 394
        },
        "outputId": "57060eb5-db0f-47b8-dffd-5a371f0067f6"
      },
      "source": [
        "outliers_glucose = dataFrame[(dataFrame['glucose'] > 290)] \n",
        "outliers_glucose"
      ],
      "execution_count": 33,
      "outputs": [
        {
          "output_type": "execute_result",
          "data": {
            "text/plain": [
              "      male  age  education  currentSmoker  cigsPerDay  BPMeds  \\\n",
              "1363     1   55        1.0              1        40.0     0.0   \n",
              "1674     1   56        3.0              0         0.0     0.0   \n",
              "2406     0   62        1.0              0         0.0     0.0   \n",
              "2801     0   47        1.0              1         1.0     0.0   \n",
              "2893     1   62        3.0              0         0.0     0.0   \n",
              "2909     0   67        2.0              0         0.0     1.0   \n",
              "3749     0   54        1.0              0         0.0     0.0   \n",
              "3817     1   47        2.0              1        20.0     0.0   \n",
              "3844     0   62        3.0              1        20.0     1.0   \n",
              "3849     0   46        2.0              1        15.0     0.0   \n",
              "3971     1   64        3.0              0         0.0     0.0   \n",
              "\n",
              "      prevalentStroke  prevalentHyp  diabetes  totChol  sysBP  diaBP    BMI  \\\n",
              "1363                0             0         1    205.0  127.0   76.0  22.24   \n",
              "1674                0             0         1    214.0  115.0   80.0  25.09   \n",
              "2406                0             0         1    233.0  130.0   87.0  21.34   \n",
              "2801                0             1         1    160.0  197.0  109.0  34.91   \n",
              "2893                0             0         1    346.0  102.5   66.5  17.17   \n",
              "2909                0             1         1    303.0  204.0   96.0  27.86   \n",
              "3749                0             0         1    223.0  110.0   67.5  21.22   \n",
              "3817                0             1         1    296.0  141.0   93.0  28.50   \n",
              "3844                0             1         1    358.0  215.0  110.0  37.62   \n",
              "3849                0             0         1    233.0  106.0   60.0  20.84   \n",
              "3971                0             1         1    195.0  176.0   78.0  24.90   \n",
              "\n",
              "      heartRate  glucose  TenYearCHD  \n",
              "1363       90.0    325.0           1  \n",
              "1674       70.0    292.0           1  \n",
              "2406       85.0    386.0           0  \n",
              "2801       82.0    320.0           1  \n",
              "2893       80.0    394.0           1  \n",
              "2909       75.0    394.0           1  \n",
              "3749       78.0    294.0           0  \n",
              "3817       68.0    332.0           1  \n",
              "3844      110.0    368.0           1  \n",
              "3849       75.0    348.0           0  \n",
              "3971       95.0    370.0           0  "
            ],
            "text/html": [
              "\n",
              "  <div id=\"df-4c0bee06-ab53-4696-a3e2-5716f2381c07\">\n",
              "    <div class=\"colab-df-container\">\n",
              "      <div>\n",
              "<style scoped>\n",
              "    .dataframe tbody tr th:only-of-type {\n",
              "        vertical-align: middle;\n",
              "    }\n",
              "\n",
              "    .dataframe tbody tr th {\n",
              "        vertical-align: top;\n",
              "    }\n",
              "\n",
              "    .dataframe thead th {\n",
              "        text-align: right;\n",
              "    }\n",
              "</style>\n",
              "<table border=\"1\" class=\"dataframe\">\n",
              "  <thead>\n",
              "    <tr style=\"text-align: right;\">\n",
              "      <th></th>\n",
              "      <th>male</th>\n",
              "      <th>age</th>\n",
              "      <th>education</th>\n",
              "      <th>currentSmoker</th>\n",
              "      <th>cigsPerDay</th>\n",
              "      <th>BPMeds</th>\n",
              "      <th>prevalentStroke</th>\n",
              "      <th>prevalentHyp</th>\n",
              "      <th>diabetes</th>\n",
              "      <th>totChol</th>\n",
              "      <th>sysBP</th>\n",
              "      <th>diaBP</th>\n",
              "      <th>BMI</th>\n",
              "      <th>heartRate</th>\n",
              "      <th>glucose</th>\n",
              "      <th>TenYearCHD</th>\n",
              "    </tr>\n",
              "  </thead>\n",
              "  <tbody>\n",
              "    <tr>\n",
              "      <th>1363</th>\n",
              "      <td>1</td>\n",
              "      <td>55</td>\n",
              "      <td>1.0</td>\n",
              "      <td>1</td>\n",
              "      <td>40.0</td>\n",
              "      <td>0.0</td>\n",
              "      <td>0</td>\n",
              "      <td>0</td>\n",
              "      <td>1</td>\n",
              "      <td>205.0</td>\n",
              "      <td>127.0</td>\n",
              "      <td>76.0</td>\n",
              "      <td>22.24</td>\n",
              "      <td>90.0</td>\n",
              "      <td>325.0</td>\n",
              "      <td>1</td>\n",
              "    </tr>\n",
              "    <tr>\n",
              "      <th>1674</th>\n",
              "      <td>1</td>\n",
              "      <td>56</td>\n",
              "      <td>3.0</td>\n",
              "      <td>0</td>\n",
              "      <td>0.0</td>\n",
              "      <td>0.0</td>\n",
              "      <td>0</td>\n",
              "      <td>0</td>\n",
              "      <td>1</td>\n",
              "      <td>214.0</td>\n",
              "      <td>115.0</td>\n",
              "      <td>80.0</td>\n",
              "      <td>25.09</td>\n",
              "      <td>70.0</td>\n",
              "      <td>292.0</td>\n",
              "      <td>1</td>\n",
              "    </tr>\n",
              "    <tr>\n",
              "      <th>2406</th>\n",
              "      <td>0</td>\n",
              "      <td>62</td>\n",
              "      <td>1.0</td>\n",
              "      <td>0</td>\n",
              "      <td>0.0</td>\n",
              "      <td>0.0</td>\n",
              "      <td>0</td>\n",
              "      <td>0</td>\n",
              "      <td>1</td>\n",
              "      <td>233.0</td>\n",
              "      <td>130.0</td>\n",
              "      <td>87.0</td>\n",
              "      <td>21.34</td>\n",
              "      <td>85.0</td>\n",
              "      <td>386.0</td>\n",
              "      <td>0</td>\n",
              "    </tr>\n",
              "    <tr>\n",
              "      <th>2801</th>\n",
              "      <td>0</td>\n",
              "      <td>47</td>\n",
              "      <td>1.0</td>\n",
              "      <td>1</td>\n",
              "      <td>1.0</td>\n",
              "      <td>0.0</td>\n",
              "      <td>0</td>\n",
              "      <td>1</td>\n",
              "      <td>1</td>\n",
              "      <td>160.0</td>\n",
              "      <td>197.0</td>\n",
              "      <td>109.0</td>\n",
              "      <td>34.91</td>\n",
              "      <td>82.0</td>\n",
              "      <td>320.0</td>\n",
              "      <td>1</td>\n",
              "    </tr>\n",
              "    <tr>\n",
              "      <th>2893</th>\n",
              "      <td>1</td>\n",
              "      <td>62</td>\n",
              "      <td>3.0</td>\n",
              "      <td>0</td>\n",
              "      <td>0.0</td>\n",
              "      <td>0.0</td>\n",
              "      <td>0</td>\n",
              "      <td>0</td>\n",
              "      <td>1</td>\n",
              "      <td>346.0</td>\n",
              "      <td>102.5</td>\n",
              "      <td>66.5</td>\n",
              "      <td>17.17</td>\n",
              "      <td>80.0</td>\n",
              "      <td>394.0</td>\n",
              "      <td>1</td>\n",
              "    </tr>\n",
              "    <tr>\n",
              "      <th>2909</th>\n",
              "      <td>0</td>\n",
              "      <td>67</td>\n",
              "      <td>2.0</td>\n",
              "      <td>0</td>\n",
              "      <td>0.0</td>\n",
              "      <td>1.0</td>\n",
              "      <td>0</td>\n",
              "      <td>1</td>\n",
              "      <td>1</td>\n",
              "      <td>303.0</td>\n",
              "      <td>204.0</td>\n",
              "      <td>96.0</td>\n",
              "      <td>27.86</td>\n",
              "      <td>75.0</td>\n",
              "      <td>394.0</td>\n",
              "      <td>1</td>\n",
              "    </tr>\n",
              "    <tr>\n",
              "      <th>3749</th>\n",
              "      <td>0</td>\n",
              "      <td>54</td>\n",
              "      <td>1.0</td>\n",
              "      <td>0</td>\n",
              "      <td>0.0</td>\n",
              "      <td>0.0</td>\n",
              "      <td>0</td>\n",
              "      <td>0</td>\n",
              "      <td>1</td>\n",
              "      <td>223.0</td>\n",
              "      <td>110.0</td>\n",
              "      <td>67.5</td>\n",
              "      <td>21.22</td>\n",
              "      <td>78.0</td>\n",
              "      <td>294.0</td>\n",
              "      <td>0</td>\n",
              "    </tr>\n",
              "    <tr>\n",
              "      <th>3817</th>\n",
              "      <td>1</td>\n",
              "      <td>47</td>\n",
              "      <td>2.0</td>\n",
              "      <td>1</td>\n",
              "      <td>20.0</td>\n",
              "      <td>0.0</td>\n",
              "      <td>0</td>\n",
              "      <td>1</td>\n",
              "      <td>1</td>\n",
              "      <td>296.0</td>\n",
              "      <td>141.0</td>\n",
              "      <td>93.0</td>\n",
              "      <td>28.50</td>\n",
              "      <td>68.0</td>\n",
              "      <td>332.0</td>\n",
              "      <td>1</td>\n",
              "    </tr>\n",
              "    <tr>\n",
              "      <th>3844</th>\n",
              "      <td>0</td>\n",
              "      <td>62</td>\n",
              "      <td>3.0</td>\n",
              "      <td>1</td>\n",
              "      <td>20.0</td>\n",
              "      <td>1.0</td>\n",
              "      <td>0</td>\n",
              "      <td>1</td>\n",
              "      <td>1</td>\n",
              "      <td>358.0</td>\n",
              "      <td>215.0</td>\n",
              "      <td>110.0</td>\n",
              "      <td>37.62</td>\n",
              "      <td>110.0</td>\n",
              "      <td>368.0</td>\n",
              "      <td>1</td>\n",
              "    </tr>\n",
              "    <tr>\n",
              "      <th>3849</th>\n",
              "      <td>0</td>\n",
              "      <td>46</td>\n",
              "      <td>2.0</td>\n",
              "      <td>1</td>\n",
              "      <td>15.0</td>\n",
              "      <td>0.0</td>\n",
              "      <td>0</td>\n",
              "      <td>0</td>\n",
              "      <td>1</td>\n",
              "      <td>233.0</td>\n",
              "      <td>106.0</td>\n",
              "      <td>60.0</td>\n",
              "      <td>20.84</td>\n",
              "      <td>75.0</td>\n",
              "      <td>348.0</td>\n",
              "      <td>0</td>\n",
              "    </tr>\n",
              "    <tr>\n",
              "      <th>3971</th>\n",
              "      <td>1</td>\n",
              "      <td>64</td>\n",
              "      <td>3.0</td>\n",
              "      <td>0</td>\n",
              "      <td>0.0</td>\n",
              "      <td>0.0</td>\n",
              "      <td>0</td>\n",
              "      <td>1</td>\n",
              "      <td>1</td>\n",
              "      <td>195.0</td>\n",
              "      <td>176.0</td>\n",
              "      <td>78.0</td>\n",
              "      <td>24.90</td>\n",
              "      <td>95.0</td>\n",
              "      <td>370.0</td>\n",
              "      <td>0</td>\n",
              "    </tr>\n",
              "  </tbody>\n",
              "</table>\n",
              "</div>\n",
              "      <button class=\"colab-df-convert\" onclick=\"convertToInteractive('df-4c0bee06-ab53-4696-a3e2-5716f2381c07')\"\n",
              "              title=\"Convert this dataframe to an interactive table.\"\n",
              "              style=\"display:none;\">\n",
              "        \n",
              "  <svg xmlns=\"http://www.w3.org/2000/svg\" height=\"24px\"viewBox=\"0 0 24 24\"\n",
              "       width=\"24px\">\n",
              "    <path d=\"M0 0h24v24H0V0z\" fill=\"none\"/>\n",
              "    <path d=\"M18.56 5.44l.94 2.06.94-2.06 2.06-.94-2.06-.94-.94-2.06-.94 2.06-2.06.94zm-11 1L8.5 8.5l.94-2.06 2.06-.94-2.06-.94L8.5 2.5l-.94 2.06-2.06.94zm10 10l.94 2.06.94-2.06 2.06-.94-2.06-.94-.94-2.06-.94 2.06-2.06.94z\"/><path d=\"M17.41 7.96l-1.37-1.37c-.4-.4-.92-.59-1.43-.59-.52 0-1.04.2-1.43.59L10.3 9.45l-7.72 7.72c-.78.78-.78 2.05 0 2.83L4 21.41c.39.39.9.59 1.41.59.51 0 1.02-.2 1.41-.59l7.78-7.78 2.81-2.81c.8-.78.8-2.07 0-2.86zM5.41 20L4 18.59l7.72-7.72 1.47 1.35L5.41 20z\"/>\n",
              "  </svg>\n",
              "      </button>\n",
              "      \n",
              "  <style>\n",
              "    .colab-df-container {\n",
              "      display:flex;\n",
              "      flex-wrap:wrap;\n",
              "      gap: 12px;\n",
              "    }\n",
              "\n",
              "    .colab-df-convert {\n",
              "      background-color: #E8F0FE;\n",
              "      border: none;\n",
              "      border-radius: 50%;\n",
              "      cursor: pointer;\n",
              "      display: none;\n",
              "      fill: #1967D2;\n",
              "      height: 32px;\n",
              "      padding: 0 0 0 0;\n",
              "      width: 32px;\n",
              "    }\n",
              "\n",
              "    .colab-df-convert:hover {\n",
              "      background-color: #E2EBFA;\n",
              "      box-shadow: 0px 1px 2px rgba(60, 64, 67, 0.3), 0px 1px 3px 1px rgba(60, 64, 67, 0.15);\n",
              "      fill: #174EA6;\n",
              "    }\n",
              "\n",
              "    [theme=dark] .colab-df-convert {\n",
              "      background-color: #3B4455;\n",
              "      fill: #D2E3FC;\n",
              "    }\n",
              "\n",
              "    [theme=dark] .colab-df-convert:hover {\n",
              "      background-color: #434B5C;\n",
              "      box-shadow: 0px 1px 3px 1px rgba(0, 0, 0, 0.15);\n",
              "      filter: drop-shadow(0px 1px 2px rgba(0, 0, 0, 0.3));\n",
              "      fill: #FFFFFF;\n",
              "    }\n",
              "  </style>\n",
              "\n",
              "      <script>\n",
              "        const buttonEl =\n",
              "          document.querySelector('#df-4c0bee06-ab53-4696-a3e2-5716f2381c07 button.colab-df-convert');\n",
              "        buttonEl.style.display =\n",
              "          google.colab.kernel.accessAllowed ? 'block' : 'none';\n",
              "\n",
              "        async function convertToInteractive(key) {\n",
              "          const element = document.querySelector('#df-4c0bee06-ab53-4696-a3e2-5716f2381c07');\n",
              "          const dataTable =\n",
              "            await google.colab.kernel.invokeFunction('convertToInteractive',\n",
              "                                                     [key], {});\n",
              "          if (!dataTable) return;\n",
              "\n",
              "          const docLinkHtml = 'Like what you see? Visit the ' +\n",
              "            '<a target=\"_blank\" href=https://colab.research.google.com/notebooks/data_table.ipynb>data table notebook</a>'\n",
              "            + ' to learn more about interactive tables.';\n",
              "          element.innerHTML = '';\n",
              "          dataTable['output_type'] = 'display_data';\n",
              "          await google.colab.output.renderOutput(dataTable, element);\n",
              "          const docLink = document.createElement('div');\n",
              "          docLink.innerHTML = docLinkHtml;\n",
              "          element.appendChild(docLink);\n",
              "        }\n",
              "      </script>\n",
              "    </div>\n",
              "  </div>\n",
              "  "
            ]
          },
          "metadata": {},
          "execution_count": 33
        }
      ]
    },
    {
      "cell_type": "code",
      "metadata": {
        "colab": {
          "base_uri": "https://localhost:8080/",
          "height": 296
        },
        "id": "lxYKEVP0Y4Jj",
        "outputId": "0b4636ed-1817-461d-8659-415418950d00"
      },
      "source": [
        "# Dropping 11 outliers in glucose\n",
        "dataFrame = dataFrame.drop(dataFrame[dataFrame.glucose > 290].index)\n",
        "sn.boxplot(dataFrame.glucose)"
      ],
      "execution_count": 34,
      "outputs": [
        {
          "output_type": "execute_result",
          "data": {
            "text/plain": [
              "<matplotlib.axes._subplots.AxesSubplot at 0x7fcc87668b90>"
            ]
          },
          "metadata": {},
          "execution_count": 34
        },
        {
          "output_type": "display_data",
          "data": {
            "text/plain": [
              "<Figure size 432x288 with 1 Axes>"
            ],
            "image/png": "[encoded data removed]"
          },
          "metadata": {
            "needs_background": "light"
          }
        }
      ]
    },
    {
      "cell_type": "markdown",
      "metadata": {
        "id": "6XnmBWqybhqc"
      },
      "source": [
        "### <font color=SeaGreen>Scaling<font><a name=scaling></a>\n",
        "---\n",
        "\n",
        "we are going to transform all the data to the range (0,1)."
      ]
    },
    {
      "cell_type": "code",
      "metadata": {
        "id": "n9HD20-mPtpu"
      },
      "source": [
        "from sklearn.preprocessing import MinMaxScaler\n",
        "\n",
        "scaler = MinMaxScaler(feature_range=(0,1)) \n",
        "\n",
        "#assign scaler to column:\n",
        "df_scaled = pd.DataFrame(scaler.fit_transform(dataFrame), columns=dataFrame.columns)"
      ],
      "execution_count": 35,
      "outputs": []
    },
    {
      "cell_type": "code",
      "metadata": {
        "colab": {
          "base_uri": "https://localhost:8080/",
          "height": 270
        },
        "id": "2jUe_KQvP-08",
        "outputId": "33d519fb-16eb-4827-e491-00b2f7e95128"
      },
      "source": [
        "df_scaled.head(5)"
      ],
      "execution_count": 36,
      "outputs": [
        {
          "output_type": "execute_result",
          "data": {
            "text/plain": [
              "   male       age  education  currentSmoker  cigsPerDay  BPMeds  \\\n",
              "0   1.0  0.184211   1.000000            0.0    0.000000     0.0   \n",
              "1   0.0  0.368421   0.333333            0.0    0.000000     0.0   \n",
              "2   1.0  0.421053   0.000000            1.0    0.285714     0.0   \n",
              "3   0.0  0.763158   0.666667            1.0    0.428571     0.0   \n",
              "4   0.0  0.368421   0.666667            1.0    0.328571     0.0   \n",
              "\n",
              "   prevalentStroke  prevalentHyp  diabetes   totChol     sysBP     diaBP  \\\n",
              "0              0.0           0.0       0.0  0.233618  0.136778  0.232804   \n",
              "1              0.0           0.0       0.0  0.390313  0.227964  0.349206   \n",
              "2              0.0           0.0       0.0  0.376068  0.267477  0.338624   \n",
              "3              0.0           1.0       0.0  0.319088  0.404255  0.497354   \n",
              "4              0.0           0.0       0.0  0.490028  0.282675  0.380952   \n",
              "\n",
              "        BMI  heartRate   glucose  TenYearCHD  \n",
              "0  0.277024   0.363636  0.158120         0.0  \n",
              "1  0.319680   0.515152  0.153846         0.0  \n",
              "2  0.237518   0.313131  0.128205         0.0  \n",
              "3  0.316045   0.212121  0.269231         1.0  \n",
              "4  0.183228   0.414141  0.192308         0.0  "
            ],
            "text/html": [
              "\n",
              "  <div id=\"df-1d3feb12-c963-4295-bf1c-0e0af9502e3c\">\n",
              "    <div class=\"colab-df-container\">\n",
              "      <div>\n",
              "<style scoped>\n",
              "    .dataframe tbody tr th:only-of-type {\n",
              "        vertical-align: middle;\n",
              "    }\n",
              "\n",
              "    .dataframe tbody tr th {\n",
              "        vertical-align: top;\n",
              "    }\n",
              "\n",
              "    .dataframe thead th {\n",
              "        text-align: right;\n",
              "    }\n",
              "</style>\n",
              "<table border=\"1\" class=\"dataframe\">\n",
              "  <thead>\n",
              "    <tr style=\"text-align: right;\">\n",
              "      <th></th>\n",
              "      <th>male</th>\n",
              "      <th>age</th>\n",
              "      <th>education</th>\n",
              "      <th>currentSmoker</th>\n",
              "      <th>cigsPerDay</th>\n",
              "      <th>BPMeds</th>\n",
              "      <th>prevalentStroke</th>\n",
              "      <th>prevalentHyp</th>\n",
              "      <th>diabetes</th>\n",
              "      <th>totChol</th>\n",
              "      <th>sysBP</th>\n",
              "      <th>diaBP</th>\n",
              "      <th>BMI</th>\n",
              "      <th>heartRate</th>\n",
              "      <th>glucose</th>\n",
              "      <th>TenYearCHD</th>\n",
              "    </tr>\n",
              "  </thead>\n",
              "  <tbody>\n",
              "    <tr>\n",
              "      <th>0</th>\n",
              "      <td>1.0</td>\n",
              "      <td>0.184211</td>\n",
              "      <td>1.000000</td>\n",
              "      <td>0.0</td>\n",
              "      <td>0.000000</td>\n",
              "      <td>0.0</td>\n",
              "      <td>0.0</td>\n",
              "      <td>0.0</td>\n",
              "      <td>0.0</td>\n",
              "      <td>0.233618</td>\n",
              "      <td>0.136778</td>\n",
              "      <td>0.232804</td>\n",
              "      <td>0.277024</td>\n",
              "      <td>0.363636</td>\n",
              "      <td>0.158120</td>\n",
              "      <td>0.0</td>\n",
              "    </tr>\n",
              "    <tr>\n",
              "      <th>1</th>\n",
              "      <td>0.0</td>\n",
              "      <td>0.368421</td>\n",
              "      <td>0.333333</td>\n",
              "      <td>0.0</td>\n",
              "      <td>0.000000</td>\n",
              "      <td>0.0</td>\n",
              "      <td>0.0</td>\n",
              "      <td>0.0</td>\n",
              "      <td>0.0</td>\n",
              "      <td>0.390313</td>\n",
              "      <td>0.227964</td>\n",
              "      <td>0.349206</td>\n",
              "      <td>0.319680</td>\n",
              "      <td>0.515152</td>\n",
              "      <td>0.153846</td>\n",
              "      <td>0.0</td>\n",
              "    </tr>\n",
              "    <tr>\n",
              "      <th>2</th>\n",
              "      <td>1.0</td>\n",
              "      <td>0.421053</td>\n",
              "      <td>0.000000</td>\n",
              "      <td>1.0</td>\n",
              "      <td>0.285714</td>\n",
              "      <td>0.0</td>\n",
              "      <td>0.0</td>\n",
              "      <td>0.0</td>\n",
              "      <td>0.0</td>\n",
              "      <td>0.376068</td>\n",
              "      <td>0.267477</td>\n",
              "      <td>0.338624</td>\n",
              "      <td>0.237518</td>\n",
              "      <td>0.313131</td>\n",
              "      <td>0.128205</td>\n",
              "      <td>0.0</td>\n",
              "    </tr>\n",
              "    <tr>\n",
              "      <th>3</th>\n",
              "      <td>0.0</td>\n",
              "      <td>0.763158</td>\n",
              "      <td>0.666667</td>\n",
              "      <td>1.0</td>\n",
              "      <td>0.428571</td>\n",
              "      <td>0.0</td>\n",
              "      <td>0.0</td>\n",
              "      <td>1.0</td>\n",
              "      <td>0.0</td>\n",
              "      <td>0.319088</td>\n",
              "      <td>0.404255</td>\n",
              "      <td>0.497354</td>\n",
              "      <td>0.316045</td>\n",
              "      <td>0.212121</td>\n",
              "      <td>0.269231</td>\n",
              "      <td>1.0</td>\n",
              "    </tr>\n",
              "    <tr>\n",
              "      <th>4</th>\n",
              "      <td>0.0</td>\n",
              "      <td>0.368421</td>\n",
              "      <td>0.666667</td>\n",
              "      <td>1.0</td>\n",
              "      <td>0.328571</td>\n",
              "      <td>0.0</td>\n",
              "      <td>0.0</td>\n",
              "      <td>0.0</td>\n",
              "      <td>0.0</td>\n",
              "      <td>0.490028</td>\n",
              "      <td>0.282675</td>\n",
              "      <td>0.380952</td>\n",
              "      <td>0.183228</td>\n",
              "      <td>0.414141</td>\n",
              "      <td>0.192308</td>\n",
              "      <td>0.0</td>\n",
              "    </tr>\n",
              "  </tbody>\n",
              "</table>\n",
              "</div>\n",
              "      <button class=\"colab-df-convert\" onclick=\"convertToInteractive('df-1d3feb12-c963-4295-bf1c-0e0af9502e3c')\"\n",
              "              title=\"Convert this dataframe to an interactive table.\"\n",
              "              style=\"display:none;\">\n",
              "        \n",
              "  <svg xmlns=\"http://www.w3.org/2000/svg\" height=\"24px\"viewBox=\"0 0 24 24\"\n",
              "       width=\"24px\">\n",
              "    <path d=\"M0 0h24v24H0V0z\" fill=\"none\"/>\n",
              "    <path d=\"M18.56 5.44l.94 2.06.94-2.06 2.06-.94-2.06-.94-.94-2.06-.94 2.06-2.06.94zm-11 1L8.5 8.5l.94-2.06 2.06-.94-2.06-.94L8.5 2.5l-.94 2.06-2.06.94zm10 10l.94 2.06.94-2.06 2.06-.94-2.06-.94-.94-2.06-.94 2.06-2.06.94z\"/><path d=\"M17.41 7.96l-1.37-1.37c-.4-.4-.92-.59-1.43-.59-.52 0-1.04.2-1.43.59L10.3 9.45l-7.72 7.72c-.78.78-.78 2.05 0 2.83L4 21.41c.39.39.9.59 1.41.59.51 0 1.02-.2 1.41-.59l7.78-7.78 2.81-2.81c.8-.78.8-2.07 0-2.86zM5.41 20L4 18.59l7.72-7.72 1.47 1.35L5.41 20z\"/>\n",
              "  </svg>\n",
              "      </button>\n",
              "      \n",
              "  <style>\n",
              "    .colab-df-container {\n",
              "      display:flex;\n",
              "      flex-wrap:wrap;\n",
              "      gap: 12px;\n",
              "    }\n",
              "\n",
              "    .colab-df-convert {\n",
              "      background-color: #E8F0FE;\n",
              "      border: none;\n",
              "      border-radius: 50%;\n",
              "      cursor: pointer;\n",
              "      display: none;\n",
              "      fill: #1967D2;\n",
              "      height: 32px;\n",
              "      padding: 0 0 0 0;\n",
              "      width: 32px;\n",
              "    }\n",
              "\n",
              "    .colab-df-convert:hover {\n",
              "      background-color: #E2EBFA;\n",
              "      box-shadow: 0px 1px 2px rgba(60, 64, 67, 0.3), 0px 1px 3px 1px rgba(60, 64, 67, 0.15);\n",
              "      fill: #174EA6;\n",
              "    }\n",
              "\n",
              "    [theme=dark] .colab-df-convert {\n",
              "      background-color: #3B4455;\n",
              "      fill: #D2E3FC;\n",
              "    }\n",
              "\n",
              "    [theme=dark] .colab-df-convert:hover {\n",
              "      background-color: #434B5C;\n",
              "      box-shadow: 0px 1px 3px 1px rgba(0, 0, 0, 0.15);\n",
              "      filter: drop-shadow(0px 1px 2px rgba(0, 0, 0, 0.3));\n",
              "      fill: #FFFFFF;\n",
              "    }\n",
              "  </style>\n",
              "\n",
              "      <script>\n",
              "        const buttonEl =\n",
              "          document.querySelector('#df-1d3feb12-c963-4295-bf1c-0e0af9502e3c button.colab-df-convert');\n",
              "        buttonEl.style.display =\n",
              "          google.colab.kernel.accessAllowed ? 'block' : 'none';\n",
              "\n",
              "        async function convertToInteractive(key) {\n",
              "          const element = document.querySelector('#df-1d3feb12-c963-4295-bf1c-0e0af9502e3c');\n",
              "          const dataTable =\n",
              "            await google.colab.kernel.invokeFunction('convertToInteractive',\n",
              "                                                     [key], {});\n",
              "          if (!dataTable) return;\n",
              "\n",
              "          const docLinkHtml = 'Like what you see? Visit the ' +\n",
              "            '<a target=\"_blank\" href=https://colab.research.google.com/notebooks/data_table.ipynb>data table notebook</a>'\n",
              "            + ' to learn more about interactive tables.';\n",
              "          element.innerHTML = '';\n",
              "          dataTable['output_type'] = 'display_data';\n",
              "          await google.colab.output.renderOutput(dataTable, element);\n",
              "          const docLink = document.createElement('div');\n",
              "          docLink.innerHTML = docLinkHtml;\n",
              "          element.appendChild(docLink);\n",
              "        }\n",
              "      </script>\n",
              "    </div>\n",
              "  </div>\n",
              "  "
            ]
          },
          "metadata": {},
          "execution_count": 36
        }
      ]
    },
    {
      "cell_type": "markdown",
      "metadata": {
        "id": "XsCxWFRwd4DM"
      },
      "source": [
        "### <font color=SeaGreen>Balancing<font><a name=balancing></a>\n",
        "---"
      ]
    },
    {
      "cell_type": "code",
      "metadata": {
        "colab": {
          "base_uri": "https://localhost:8080/"
        },
        "id": "7JwvadclKqbq",
        "outputId": "a6b32607-3b89-4454-92f6-956701d71745"
      },
      "source": [
        "df_scaled.TenYearCHD.value_counts()"
      ],
      "execution_count": 37,
      "outputs": [
        {
          "output_type": "execute_result",
          "data": {
            "text/plain": [
              "0.0    3582\n",
              "1.0     624\n",
              "Name: TenYearCHD, dtype: int64"
            ]
          },
          "metadata": {},
          "execution_count": 37
        }
      ]
    },
    {
      "cell_type": "code",
      "metadata": {
        "colab": {
          "base_uri": "https://localhost:8080/",
          "height": 296
        },
        "id": "W_u_kBzTKvPa",
        "outputId": "25d5d329-a39a-4124-f475-2d8fa43ac06a"
      },
      "source": [
        "sn.countplot(x='TenYearCHD',data=dataFrame,palette=[\"#eb383b\",\"#3853eb\"])"
      ],
      "execution_count": 38,
      "outputs": [
        {
          "output_type": "execute_result",
          "data": {
            "text/plain": [
              "<matplotlib.axes._subplots.AxesSubplot at 0x7fcc8765ced0>"
            ]
          },
          "metadata": {},
          "execution_count": 38
        },
        {
          "output_type": "display_data",
          "data": {
            "text/plain": [
              "<Figure size 432x288 with 1 Axes>"
            ],
            "image/png": "[encoded data removed]"
          },
          "metadata": {
            "needs_background": "light"
          }
        }
      ]
    },
    {
      "cell_type": "markdown",
      "metadata": {
        "id": "NvZy0gFOQuRx"
      },
      "source": [
        "As it can be seen from the figure above, our target feature is not well balanced. Without balancing, using simpler metrics like accuracy_score can be misleading. In a dataset with highly unbalanced classes, if the classifier always \"predicts\" the most common class without performing any analysis of the features, it will still have a high accuracy rate.\n",
        "To balance it, there are two ways, one is oversampling and another is undersampling. with oversampling we duplicate the minority class in order to balance with majority class. we will use the undersampling method in our case."
      ]
    },
    {
      "cell_type": "markdown",
      "metadata": {
        "id": "BBP6doN7Q132"
      },
      "source": [
        "Undersampling trys to decrease the number of instances from the majarity class in the data set. If we do not balance the number of instances, most classification algorithms will heavily focus on the majority class. As a result, it might seem like your algorithm is achieving superb results when, in reality, it is simply always predicting the majority class.\n"
      ]
    },
    {
      "cell_type": "code",
      "metadata": {
        "colab": {
          "base_uri": "https://localhost:8080/",
          "height": 310
        },
        "id": "8NGdxo3lQ58u",
        "outputId": "3457a3b2-39b5-4d25-affa-8581106fb5d4"
      },
      "source": [
        "# Shuffle df\n",
        "shuffled_df = df_scaled.sample(frac=1,random_state=4)\n",
        "\n",
        "# Put all the fraud class in a separate dataset.\n",
        "CHD_df = shuffled_df.loc[shuffled_df['TenYearCHD'] == 1]\n",
        "\n",
        "#Randomly select 492 observations from the non-fraud (majority class)\n",
        "non_CHD_df = shuffled_df.loc[shuffled_df['TenYearCHD'] == 0].sample(n=624,random_state=42)\n",
        "\n",
        "# Concatenate both dataframes again\n",
        "normalized_df = pd.concat([CHD_df, non_CHD_df])\n",
        "\n",
        "# check new class counts\n",
        "normalized_df.TenYearCHD.value_counts()\n",
        "\n",
        "# plot new count\n",
        "sn.countplot(normalized_df.TenYearCHD, palette=[\"#37e6cb\",\"#3853eb\"])\n",
        "\n",
        "plt.xlabel('Heart Disease No/Yes',fontsize=11)\n",
        "plt.ylabel('Patient Count',fontsize=11)\n",
        "plt.title('Count Outcome Heart Disease after Resampling\\n')\n",
        "plt.show()"
      ],
      "execution_count": 43,
      "outputs": [
        {
          "output_type": "display_data",
          "data": {
            "text/plain": [
              "<Figure size 432x288 with 1 Axes>"
            ],
            "image/png": "[encoded data removed]"
          },
          "metadata": {
            "needs_background": "light"
          }
        }
      ]
    },
    {
      "cell_type": "markdown",
      "metadata": {
        "id": "R9n-Bdt9d_GP"
      },
      "source": [
        "## <font color=LightSeaGreen>Model Selection<font><a name=\"model\"></a>\n",
        "---"
      ]
    },
    {
      "cell_type": "markdown",
      "metadata": {
        "id": "eisN_TspxO11"
      },
      "source": [
        "In this part, we will perform different models such as DT, SVM, MLP, RF \n",
        "\n",
        "  -   [1. Decision Tree](#DT)\n",
        "  -   [2. SVM ](#svm)\n",
        "  -   [3. MLP ](#mlp)\n",
        "  -   [4. RF ](#rf)\n"
      ]
    },
    {
      "cell_type": "markdown",
      "metadata": {
        "id": "LeqC94lg0pqO"
      },
      "source": [
        "Before performing different models, we should split our data set into train and test subsets."
      ]
    },
    {
      "cell_type": "code",
      "metadata": {
        "id": "voXzPpQPQKhi"
      },
      "source": [
        "from sklearn.model_selection import train_test_split\n",
        "y = normalized_df['TenYearCHD']\n",
        "X = normalized_df.drop(['TenYearCHD'], axis = 1)\n",
        "\n",
        "# divide train test: 75 % - 25 %\n",
        "X_train, X_test, y_train, y_test = train_test_split(X, y, test_size = 0.25)\n",
        "\n"
      ],
      "execution_count": 44,
      "outputs": []
    },
    {
      "cell_type": "markdown",
      "metadata": {
        "id": "eeGJo5tI0K6t"
      },
      "source": [
        "#### <font color=SeaGreen>1. Decison Tree<font><a name=DT></a>\n"
      ]
    },
    {
      "cell_type": "code",
      "metadata": {
        "colab": {
          "base_uri": "https://localhost:8080/"
        },
        "id": "HzKP3Cfo5Cya",
        "outputId": "4fbdd94e-4507-4cd6-d8eb-f275c10cb2a8"
      },
      "source": [
        "from sklearn.tree import DecisionTreeClassifier\n",
        "\n",
        "classifierDT = DecisionTreeClassifier()\n",
        "classifierDT.fit(X_train, y_train)\n",
        "y_predDT = classifierDT.predict(X_test)\n",
        "from sklearn.metrics import classification_report, confusion_matrix\n",
        "print(classification_report(y_test, y_predDT))"
      ],
      "execution_count": 45,
      "outputs": [
        {
          "output_type": "stream",
          "name": "stdout",
          "text": [
            "              precision    recall  f1-score   support\n",
            "\n",
            "         0.0       0.56      0.57      0.56       162\n",
            "         1.0       0.53      0.52      0.52       150\n",
            "\n",
            "    accuracy                           0.54       312\n",
            "   macro avg       0.54      0.54      0.54       312\n",
            "weighted avg       0.54      0.54      0.54       312\n",
            "\n"
          ]
        }
      ]
    },
    {
      "cell_type": "code",
      "metadata": {
        "colab": {
          "base_uri": "https://localhost:8080/",
          "height": 345
        },
        "id": "1m75HXt_5wd1",
        "outputId": "59190470-bdfb-49a1-c30e-4b3db63dc28d"
      },
      "source": [
        "#Plotting Confusion Matrix\n",
        "from sklearn.metrics import confusion_matrix\n",
        "confusion_matrix_DT = confusion_matrix(y_test,y_predDT)\n",
        "sn.heatmap(confusion_matrix_DT, annot=True,cmap=\"BuGn\" , fmt='g')\n",
        "plt.tight_layout()\n",
        "plt.title('Confusion matrix Decision Tree\\n')\n"
      ],
      "execution_count": 46,
      "outputs": [
        {
          "output_type": "execute_result",
          "data": {
            "text/plain": [
              "Text(0.5, 1.0, 'Confusion matrix Decision Tree\\n')"
            ]
          },
          "metadata": {},
          "execution_count": 46
        },
        {
          "output_type": "display_data",
          "data": {
            "text/plain": [
              "<Figure size 432x288 with 2 Axes>"
            ],
            "image/png": "[encoded data removed]"
          },
          "metadata": {
            "needs_background": "light"
          }
        }
      ]
    },
    {
      "cell_type": "markdown",
      "metadata": {
        "id": "pMDMgo2u4CWx"
      },
      "source": [
        "#### <font color=SeaGreen>2. SVM<font><a name=svm></a>\n",
        "\n"
      ]
    },
    {
      "cell_type": "code",
      "metadata": {
        "colab": {
          "base_uri": "https://localhost:8080/"
        },
        "id": "JHpdCFsQ4VfY",
        "outputId": "9adf8d0c-54b7-49f0-c0af-c8b291193915"
      },
      "source": [
        "from sklearn.svm import SVC\n",
        "\n",
        "classifierSVM = SVC()\n",
        "classifierSVM.fit(X_train, y_train)\n",
        "y_predSVC = classifierSVM.predict(X_test)\n",
        "print(classification_report(y_test, y_predSVC))"
      ],
      "execution_count": 49,
      "outputs": [
        {
          "output_type": "stream",
          "name": "stdout",
          "text": [
            "              precision    recall  f1-score   support\n",
            "\n",
            "         0.0       0.65      0.57      0.61       162\n",
            "         1.0       0.59      0.67      0.63       150\n",
            "\n",
            "    accuracy                           0.62       312\n",
            "   macro avg       0.62      0.62      0.62       312\n",
            "weighted avg       0.62      0.62      0.62       312\n",
            "\n"
          ]
        }
      ]
    },
    {
      "cell_type": "code",
      "metadata": {
        "colab": {
          "base_uri": "https://localhost:8080/",
          "height": 345
        },
        "id": "NykkZEpM4zf4",
        "outputId": "3c206a68-c4e9-4d60-cd60-7bb4d0912261"
      },
      "source": [
        "#Plotting Confusion Matrix\n",
        "confusion_matrix_SVM = confusion_matrix(y_test,y_predSVC)\n",
        "sn.heatmap(confusion_matrix_SVM , annot=True,cmap=\"BuGn\" , fmt='g')\n",
        "plt.tight_layout()\n",
        "plt.title('Confusion matrix SVM\\n')"
      ],
      "execution_count": 50,
      "outputs": [
        {
          "output_type": "execute_result",
          "data": {
            "text/plain": [
              "Text(0.5, 1.0, 'Confusion matrix SVM\\n')"
            ]
          },
          "metadata": {},
          "execution_count": 50
        },
        {
          "output_type": "display_data",
          "data": {
            "text/plain": [
              "<Figure size 432x288 with 2 Axes>"
            ],
            "image/png": "[encoded data removed]"
          },
          "metadata": {
            "needs_background": "light"
          }
        }
      ]
    },
    {
      "cell_type": "markdown",
      "metadata": {
        "id": "HxD5WT_k5O26"
      },
      "source": [
        "#### <font color=SeaGreen>3. MLP<font><a name=mlp></a>\n"
      ]
    },
    {
      "cell_type": "code",
      "metadata": {
        "colab": {
          "base_uri": "https://localhost:8080/"
        },
        "id": "6VzTWigb7ezp",
        "outputId": "895920c9-b560-4449-83f0-861cd78cd6c5"
      },
      "source": [
        "from sklearn.neural_network import MLPClassifier\n",
        "classifierMLP = MLPClassifier()\n",
        "classifierMLP.fit(X_train, y_train)\n",
        "y_predMLP = classifierMLP.predict(X_test)\n",
        "print(classification_report(y_test, y_predMLP))\n",
        "classifierMLP.get_params()"
      ],
      "execution_count": 53,
      "outputs": [
        {
          "output_type": "stream",
          "name": "stdout",
          "text": [
            "              precision    recall  f1-score   support\n",
            "\n",
            "         0.0       0.66      0.62      0.64       162\n",
            "         1.0       0.62      0.66      0.64       150\n",
            "\n",
            "    accuracy                           0.64       312\n",
            "   macro avg       0.64      0.64      0.64       312\n",
            "weighted avg       0.64      0.64      0.64       312\n",
            "\n"
          ]
        },
        {
          "output_type": "execute_result",
          "data": {
            "text/plain": [
              "{'activation': 'relu',\n",
              " 'alpha': 0.0001,\n",
              " 'batch_size': 'auto',\n",
              " 'beta_1': 0.9,\n",
              " 'beta_2': 0.999,\n",
              " 'early_stopping': False,\n",
              " 'epsilon': 1e-08,\n",
              " 'hidden_layer_sizes': (100,),\n",
              " 'learning_rate': 'constant',\n",
              " 'learning_rate_init': 0.001,\n",
              " 'max_fun': 15000,\n",
              " 'max_iter': 200,\n",
              " 'momentum': 0.9,\n",
              " 'n_iter_no_change': 10,\n",
              " 'nesterovs_momentum': True,\n",
              " 'power_t': 0.5,\n",
              " 'random_state': None,\n",
              " 'shuffle': True,\n",
              " 'solver': 'adam',\n",
              " 'tol': 0.0001,\n",
              " 'validation_fraction': 0.1,\n",
              " 'verbose': False,\n",
              " 'warm_start': False}"
            ]
          },
          "metadata": {},
          "execution_count": 53
        }
      ]
    },
    {
      "cell_type": "code",
      "metadata": {
        "colab": {
          "base_uri": "https://localhost:8080/",
          "height": 345
        },
        "id": "27_WaR6z505Z",
        "outputId": "77204151-b0ff-4281-bf87-753256a90d76"
      },
      "source": [
        "#Plotting Confusion Matrix\n",
        "confusion_matrix_MLP = confusion_matrix(y_test,y_predMLP)\n",
        "sn.heatmap(confusion_matrix_MLP , annot=True,cmap=\"BuGn\" , fmt='g')\n",
        "plt.tight_layout()\n",
        "plt.title('Confusion matrix MLP\\n')"
      ],
      "execution_count": 54,
      "outputs": [
        {
          "output_type": "execute_result",
          "data": {
            "text/plain": [
              "Text(0.5, 1.0, 'Confusion matrix MLP\\n')"
            ]
          },
          "metadata": {},
          "execution_count": 54
        },
        {
          "output_type": "display_data",
          "data": {
            "text/plain": [
              "<Figure size 432x288 with 2 Axes>"
            ],
            "image/png": "[encoded data removed]"
          },
          "metadata": {
            "needs_background": "light"
          }
        }
      ]
    },
    {
      "cell_type": "markdown",
      "metadata": {
        "id": "9cbpXq0A6T7F"
      },
      "source": [
        "#### <font color=SeaGreen>4. RF<font><a name=rf></a>\n"
      ]
    },
    {
      "cell_type": "code",
      "metadata": {
        "colab": {
          "base_uri": "https://localhost:8080/"
        },
        "id": "mtuE5nYc6a2v",
        "outputId": "5487a9f0-75d9-435d-ae43-65cc0aed6730"
      },
      "source": [
        "from sklearn.ensemble import RandomForestClassifier\n",
        "classifierRF = RandomForestClassifier(max_depth= 15,n_estimators=20)\n",
        "classifierRF.fit(X_train, y_train)\n",
        "y_predRF = classifierRF.predict(X_test)\n",
        "print(classification_report(y_test, y_predRF))"
      ],
      "execution_count": 57,
      "outputs": [
        {
          "output_type": "stream",
          "name": "stdout",
          "text": [
            "              precision    recall  f1-score   support\n",
            "\n",
            "         0.0       0.66      0.60      0.63       162\n",
            "         1.0       0.61      0.67      0.63       150\n",
            "\n",
            "    accuracy                           0.63       312\n",
            "   macro avg       0.63      0.63      0.63       312\n",
            "weighted avg       0.63      0.63      0.63       312\n",
            "\n"
          ]
        }
      ]
    },
    {
      "cell_type": "code",
      "metadata": {
        "colab": {
          "base_uri": "https://localhost:8080/",
          "height": 341
        },
        "id": "SjZV-OG96ap-",
        "outputId": "22218a23-81e8-4db9-ad6d-e22fbd0bbcaf"
      },
      "source": [
        "#Plotting Confusion Matrix\n",
        "confusion_matrix_RF = confusion_matrix(y_test,y_predRF)\n",
        "sn.heatmap(confusion_matrix_RF , annot=True,cmap=\"BuGn\" , fmt='g')\n",
        "plt.tight_layout()\n",
        "plt.title('Confusion matrix RF\\n')"
      ],
      "execution_count": 58,
      "outputs": [
        {
          "output_type": "execute_result",
          "data": {
            "text/plain": [
              "Text(0.5, 1.0, 'Confusion matrix RF\\n')"
            ]
          },
          "metadata": {},
          "execution_count": 58
        },
        {
          "output_type": "display_data",
          "data": {
            "text/plain": [
              "<Figure size 432x288 with 2 Axes>"
            ],
            "image/png": "[encoded data removed]"
          },
          "metadata": {
            "needs_background": "light"
          }
        }
      ]
    },
    {
      "cell_type": "markdown",
      "metadata": {
        "id": "Do0yOQ7x9Ipt"
      },
      "source": [
        "Hyperparameter tuning"
      ]
    },
    {
      "cell_type": "code",
      "metadata": {
        "id": "mHF9IUoA83zR"
      },
      "source": [
        "from sklearn.model_selection import GridSearchCV\n",
        "\n",
        "#Hyper Parameter Tuning Function\n",
        "def print_bold(string):\n",
        "    print(\"\\033[1m\" + string + \"\\033[0m\")\n",
        "\n",
        "def hyper_parameter_tuning(model, X_train, y_train, tuned_parameters, X_test, y_test, with_randomize=False):\n",
        "  scores = ['precision', 'recall']\n",
        "  for score in scores:\n",
        "    print_bold(\"# Hyper-Parameters Tuning for %s \\n\" % score)\n",
        "    \n",
        "    if with_randomize:\n",
        "        classifier = RandomizedSearchCV(model, tuned_parameters, scoring='%s_macro' % score)\n",
        "    else:\n",
        "        classifier = GridSearchCV(model, tuned_parameters, scoring='%s_macro' % score)\n",
        "    \n",
        "    \n",
        "    classifier.fit(X_train, y_train)\n",
        "    print(\"Best parameters set found on development set:\\n\\n\", classifier.best_params_)\n",
        "    \n",
        "    print(\"\\nGrid scores on development set:\\n\")\n",
        "    means = classifier.cv_results_['mean_test_score']\n",
        "    stds = classifier.cv_results_['std_test_score']\n",
        "    for mean, std, params in zip(means, stds, classifier.cv_results_['params']):\n",
        "        print(\"%0.3f (+/-%0.03f) for %r\"\n",
        "              % (mean, std * 2, params))\n",
        "        \n",
        "    print(\"\\nDetailed classification report:\\n\")\n",
        "    print(\"The model is trained on the full development set\")\n",
        "    print(\"The scores are computed on the full evaluation set\\n\")\n",
        "    print(\n",
        "        classification_report(\n",
        "            y_test, classifier.predict(X_test)\n",
        "        )\n",
        "    )"
      ],
      "execution_count": 59,
      "outputs": []
    },
    {
      "cell_type": "code",
      "metadata": {
        "colab": {
          "base_uri": "https://localhost:8080/"
        },
        "id": "a1A-zplqAr0M",
        "outputId": "88473654-4b7f-40fa-97f5-e3e3ac1434bd"
      },
      "source": [
        "MLP_model = MLPClassifier()\n",
        "# Setting the hyperparameters to be tuned\n",
        "tuned_parameters = [{'solver':['adam'],'hidden_layer_sizes':[(18),(20)],'max_iter':range(10,200,10)}]\n",
        "# Calling the pre-defined get_hyper function\n",
        "hyper_parameter_tuning(MLP_model, X_train, y_train, tuned_parameters, X_test, y_test)"
      ],
      "execution_count": 60,
      "outputs": [
        {
          "output_type": "stream",
          "name": "stdout",
          "text": [
            "\u001b[1m# Hyper-Parameters Tuning for precision \n",
            "\u001b[0m\n",
            "Best parameters set found on development set:\n",
            "\n",
            " {'hidden_layer_sizes': 18, 'max_iter': 190, 'solver': 'adam'}\n",
            "\n",
            "Grid scores on development set:\n",
            "\n",
            "0.460 (+/-0.386) for {'hidden_layer_sizes': 18, 'max_iter': 10, 'solver': 'adam'}\n",
            "0.532 (+/-0.247) for {'hidden_layer_sizes': 18, 'max_iter': 20, 'solver': 'adam'}\n",
            "0.621 (+/-0.075) for {'hidden_layer_sizes': 18, 'max_iter': 30, 'solver': 'adam'}\n",
            "0.640 (+/-0.078) for {'hidden_layer_sizes': 18, 'max_iter': 40, 'solver': 'adam'}\n",
            "0.640 (+/-0.061) for {'hidden_layer_sizes': 18, 'max_iter': 50, 'solver': 'adam'}\n",
            "0.642 (+/-0.066) for {'hidden_layer_sizes': 18, 'max_iter': 60, 'solver': 'adam'}\n",
            "0.629 (+/-0.033) for {'hidden_layer_sizes': 18, 'max_iter': 70, 'solver': 'adam'}\n",
            "0.651 (+/-0.049) for {'hidden_layer_sizes': 18, 'max_iter': 80, 'solver': 'adam'}\n",
            "0.663 (+/-0.053) for {'hidden_layer_sizes': 18, 'max_iter': 90, 'solver': 'adam'}\n",
            "0.655 (+/-0.028) for {'hidden_layer_sizes': 18, 'max_iter': 100, 'solver': 'adam'}\n",
            "0.656 (+/-0.045) for {'hidden_layer_sizes': 18, 'max_iter': 110, 'solver': 'adam'}\n",
            "0.661 (+/-0.033) for {'hidden_layer_sizes': 18, 'max_iter': 120, 'solver': 'adam'}\n",
            "0.657 (+/-0.030) for {'hidden_layer_sizes': 18, 'max_iter': 130, 'solver': 'adam'}\n",
            "0.650 (+/-0.033) for {'hidden_layer_sizes': 18, 'max_iter': 140, 'solver': 'adam'}\n",
            "0.657 (+/-0.035) for {'hidden_layer_sizes': 18, 'max_iter': 150, 'solver': 'adam'}\n",
            "0.654 (+/-0.027) for {'hidden_layer_sizes': 18, 'max_iter': 160, 'solver': 'adam'}\n",
            "0.657 (+/-0.026) for {'hidden_layer_sizes': 18, 'max_iter': 170, 'solver': 'adam'}\n",
            "0.661 (+/-0.045) for {'hidden_layer_sizes': 18, 'max_iter': 180, 'solver': 'adam'}\n",
            "0.667 (+/-0.031) for {'hidden_layer_sizes': 18, 'max_iter': 190, 'solver': 'adam'}\n",
            "0.615 (+/-0.028) for {'hidden_layer_sizes': 20, 'max_iter': 10, 'solver': 'adam'}\n",
            "0.599 (+/-0.087) for {'hidden_layer_sizes': 20, 'max_iter': 20, 'solver': 'adam'}\n",
            "0.635 (+/-0.062) for {'hidden_layer_sizes': 20, 'max_iter': 30, 'solver': 'adam'}\n",
            "0.644 (+/-0.049) for {'hidden_layer_sizes': 20, 'max_iter': 40, 'solver': 'adam'}\n",
            "0.647 (+/-0.070) for {'hidden_layer_sizes': 20, 'max_iter': 50, 'solver': 'adam'}\n",
            "0.656 (+/-0.021) for {'hidden_layer_sizes': 20, 'max_iter': 60, 'solver': 'adam'}\n",
            "0.648 (+/-0.056) for {'hidden_layer_sizes': 20, 'max_iter': 70, 'solver': 'adam'}\n",
            "0.649 (+/-0.044) for {'hidden_layer_sizes': 20, 'max_iter': 80, 'solver': 'adam'}\n",
            "0.661 (+/-0.038) for {'hidden_layer_sizes': 20, 'max_iter': 90, 'solver': 'adam'}\n",
            "0.662 (+/-0.035) for {'hidden_layer_sizes': 20, 'max_iter': 100, 'solver': 'adam'}\n",
            "0.655 (+/-0.022) for {'hidden_layer_sizes': 20, 'max_iter': 110, 'solver': 'adam'}\n",
            "0.661 (+/-0.033) for {'hidden_layer_sizes': 20, 'max_iter': 120, 'solver': 'adam'}\n",
            "0.653 (+/-0.033) for {'hidden_layer_sizes': 20, 'max_iter': 130, 'solver': 'adam'}\n",
            "0.663 (+/-0.052) for {'hidden_layer_sizes': 20, 'max_iter': 140, 'solver': 'adam'}\n",
            "0.664 (+/-0.042) for {'hidden_layer_sizes': 20, 'max_iter': 150, 'solver': 'adam'}\n",
            "0.656 (+/-0.039) for {'hidden_layer_sizes': 20, 'max_iter': 160, 'solver': 'adam'}\n",
            "0.658 (+/-0.050) for {'hidden_layer_sizes': 20, 'max_iter': 170, 'solver': 'adam'}\n",
            "0.658 (+/-0.051) for {'hidden_layer_sizes': 20, 'max_iter': 180, 'solver': 'adam'}\n",
            "0.651 (+/-0.034) for {'hidden_layer_sizes': 20, 'max_iter': 190, 'solver': 'adam'}\n",
            "\n",
            "Detailed classification report:\n",
            "\n",
            "The model is trained on the full development set\n",
            "The scores are computed on the full evaluation set\n",
            "\n",
            "              precision    recall  f1-score   support\n",
            "\n",
            "         0.0       0.68      0.57      0.62       162\n",
            "         1.0       0.61      0.71      0.65       150\n",
            "\n",
            "    accuracy                           0.64       312\n",
            "   macro avg       0.64      0.64      0.64       312\n",
            "weighted avg       0.64      0.64      0.64       312\n",
            "\n",
            "\u001b[1m# Hyper-Parameters Tuning for recall \n",
            "\u001b[0m\n",
            "Best parameters set found on development set:\n",
            "\n",
            " {'hidden_layer_sizes': 20, 'max_iter': 140, 'solver': 'adam'}\n",
            "\n",
            "Grid scores on development set:\n",
            "\n",
            "0.515 (+/-0.105) for {'hidden_layer_sizes': 18, 'max_iter': 10, 'solver': 'adam'}\n",
            "0.609 (+/-0.067) for {'hidden_layer_sizes': 18, 'max_iter': 20, 'solver': 'adam'}\n",
            "0.614 (+/-0.073) for {'hidden_layer_sizes': 18, 'max_iter': 30, 'solver': 'adam'}\n",
            "0.630 (+/-0.077) for {'hidden_layer_sizes': 18, 'max_iter': 40, 'solver': 'adam'}\n",
            "0.631 (+/-0.066) for {'hidden_layer_sizes': 18, 'max_iter': 50, 'solver': 'adam'}\n",
            "0.628 (+/-0.075) for {'hidden_layer_sizes': 18, 'max_iter': 60, 'solver': 'adam'}\n",
            "0.634 (+/-0.043) for {'hidden_layer_sizes': 18, 'max_iter': 70, 'solver': 'adam'}\n",
            "0.643 (+/-0.052) for {'hidden_layer_sizes': 18, 'max_iter': 80, 'solver': 'adam'}\n",
            "0.641 (+/-0.051) for {'hidden_layer_sizes': 18, 'max_iter': 90, 'solver': 'adam'}\n",
            "0.653 (+/-0.031) for {'hidden_layer_sizes': 18, 'max_iter': 100, 'solver': 'adam'}\n",
            "0.661 (+/-0.039) for {'hidden_layer_sizes': 18, 'max_iter': 110, 'solver': 'adam'}\n",
            "0.650 (+/-0.032) for {'hidden_layer_sizes': 18, 'max_iter': 120, 'solver': 'adam'}\n",
            "0.658 (+/-0.028) for {'hidden_layer_sizes': 18, 'max_iter': 130, 'solver': 'adam'}\n",
            "0.651 (+/-0.029) for {'hidden_layer_sizes': 18, 'max_iter': 140, 'solver': 'adam'}\n",
            "0.656 (+/-0.042) for {'hidden_layer_sizes': 18, 'max_iter': 150, 'solver': 'adam'}\n",
            "0.653 (+/-0.038) for {'hidden_layer_sizes': 18, 'max_iter': 160, 'solver': 'adam'}\n",
            "0.652 (+/-0.016) for {'hidden_layer_sizes': 18, 'max_iter': 170, 'solver': 'adam'}\n",
            "0.656 (+/-0.043) for {'hidden_layer_sizes': 18, 'max_iter': 180, 'solver': 'adam'}\n",
            "0.656 (+/-0.028) for {'hidden_layer_sizes': 18, 'max_iter': 190, 'solver': 'adam'}\n",
            "0.529 (+/-0.159) for {'hidden_layer_sizes': 20, 'max_iter': 10, 'solver': 'adam'}\n",
            "0.628 (+/-0.062) for {'hidden_layer_sizes': 20, 'max_iter': 20, 'solver': 'adam'}\n",
            "0.634 (+/-0.064) for {'hidden_layer_sizes': 20, 'max_iter': 30, 'solver': 'adam'}\n",
            "0.637 (+/-0.071) for {'hidden_layer_sizes': 20, 'max_iter': 40, 'solver': 'adam'}\n",
            "0.632 (+/-0.075) for {'hidden_layer_sizes': 20, 'max_iter': 50, 'solver': 'adam'}\n",
            "0.636 (+/-0.060) for {'hidden_layer_sizes': 20, 'max_iter': 60, 'solver': 'adam'}\n",
            "0.654 (+/-0.057) for {'hidden_layer_sizes': 20, 'max_iter': 70, 'solver': 'adam'}\n",
            "0.649 (+/-0.056) for {'hidden_layer_sizes': 20, 'max_iter': 80, 'solver': 'adam'}\n",
            "0.649 (+/-0.043) for {'hidden_layer_sizes': 20, 'max_iter': 90, 'solver': 'adam'}\n",
            "0.659 (+/-0.029) for {'hidden_layer_sizes': 20, 'max_iter': 100, 'solver': 'adam'}\n",
            "0.661 (+/-0.034) for {'hidden_layer_sizes': 20, 'max_iter': 110, 'solver': 'adam'}\n",
            "0.655 (+/-0.033) for {'hidden_layer_sizes': 20, 'max_iter': 120, 'solver': 'adam'}\n",
            "0.658 (+/-0.030) for {'hidden_layer_sizes': 20, 'max_iter': 130, 'solver': 'adam'}\n",
            "0.663 (+/-0.034) for {'hidden_layer_sizes': 20, 'max_iter': 140, 'solver': 'adam'}\n",
            "0.661 (+/-0.022) for {'hidden_layer_sizes': 20, 'max_iter': 150, 'solver': 'adam'}\n",
            "0.658 (+/-0.039) for {'hidden_layer_sizes': 20, 'max_iter': 160, 'solver': 'adam'}\n",
            "0.655 (+/-0.026) for {'hidden_layer_sizes': 20, 'max_iter': 170, 'solver': 'adam'}\n",
            "0.655 (+/-0.014) for {'hidden_layer_sizes': 20, 'max_iter': 180, 'solver': 'adam'}\n",
            "0.653 (+/-0.024) for {'hidden_layer_sizes': 20, 'max_iter': 190, 'solver': 'adam'}\n",
            "\n",
            "Detailed classification report:\n",
            "\n",
            "The model is trained on the full development set\n",
            "The scores are computed on the full evaluation set\n",
            "\n",
            "              precision    recall  f1-score   support\n",
            "\n",
            "         0.0       0.66      0.60      0.63       162\n",
            "         1.0       0.60      0.66      0.63       150\n",
            "\n",
            "    accuracy                           0.63       312\n",
            "   macro avg       0.63      0.63      0.63       312\n",
            "weighted avg       0.63      0.63      0.63       312\n",
            "\n"
          ]
        }
      ]
    },
    {
      "cell_type": "markdown",
      "metadata": {
        "id": "-0B_ZX8iHbIP"
      },
      "source": [
        "**Result**: MLP has the highest score"
      ]
    },
    {
      "cell_type": "code",
      "metadata": {
        "colab": {
          "base_uri": "https://localhost:8080/"
        },
        "id": "-R4vvHVvHq4T",
        "outputId": "fbc46104-aa29-47d2-c12a-817480f9b6b7"
      },
      "source": [
        "import math\n",
        "# Check overfit of the MLP model\n",
        "# accuracy test and train\n",
        "\n",
        "print(\n",
        "    f'The Score of the MLPClassifier for Training set {round((classifierMLP.score(X_train.values,y_train.values))*100)}%'\n",
        "    )\n",
        "print(\n",
        "    f'The Score of the MLPClassifier for Test set {round((classifierMLP.score(X_test.values,y_test.values))*100)}%'\n",
        "    )\n"
      ],
      "execution_count": 61,
      "outputs": [
        {
          "output_type": "stream",
          "name": "stdout",
          "text": [
            "The Score of the MLPClassifier for Training set 70%\n",
            "The Score of the MLPClassifier for Test set 64%\n"
          ]
        }
      ]
    },
    {
      "cell_type": "markdown",
      "metadata": {
        "id": "LrAEucdvMhpW"
      },
      "source": [
        "**Result**: The scores for test and training data for the MLP model are very similar. So we do not expect the model to overfit."
      ]
    },
    {
      "cell_type": "code",
      "metadata": {
        "colab": {
          "base_uri": "https://localhost:8080/",
          "height": 298
        },
        "id": "MwIl0yR-M9JN",
        "outputId": "fd49a342-0e76-4565-83d8-728e2e01370b"
      },
      "source": [
        "from sklearn.metrics import roc_curve\n",
        "from sklearn.metrics import roc_auc_score\n",
        "\n",
        "FPRate, TPRate, not_imp = roc_curve(y_test, y_predMLP)\n",
        "AUC = roc_auc_score(y_test, y_predMLP)\n",
        "plt.plot(FPRate,TPRate,label=\"data, AUC=\"+str(AUC))\n",
        "plt.legend(loc=4)\n",
        "plt.title ('ROC CURVE MLP')\n",
        "plt.show()\n",
        "\n",
        "print(f\"The score for the AUC ROC Curve is: {round(AUC,2)*100}%\")"
      ],
      "execution_count": 63,
      "outputs": [
        {
          "output_type": "display_data",
          "data": {
            "text/plain": [
              "<Figure size 432x288 with 1 Axes>"
            ],
            "image/png": "[encoded data removed]"
          },
          "metadata": {
            "needs_background": "light"
          }
        },
        {
          "output_type": "stream",
          "name": "stdout",
          "text": [
            "The score for the AUC ROC Curve is: 64.0%\n"
          ]
        }
      ]
    },
    {
      "cell_type": "code",
      "metadata": {
        "id": "ldM4QCUyP_Sv"
      },
      "source": [
        "# Forest of Trees\n",
        "def feature_imp(X,Y):\n",
        "# Build a forest and compute the impurity-based feature importances\n",
        "  forest = ExtraTreesClassifier(n_estimators=250,random_state=0)\n",
        "  # Fitting the model\n",
        "  forest.fit(X,Y)\n",
        "  # Calculating the importance of features \n",
        "  importances = forest.feature_importances_\n",
        "  #summarize feature importance\n",
        "  for i,j in enumerate(importances):\n",
        "\t  print('%s, Score: %.5f' % (X.columns[i],j))\n",
        "  #return importances as a pandas dataframe \n",
        "  return pd.DataFrame(index=X.columns, columns=['importancy'], data=importances)"
      ],
      "execution_count": 64,
      "outputs": []
    },
    {
      "cell_type": "code",
      "metadata": {
        "id": "fDbSSOFKvHT9",
        "colab": {
          "base_uri": "https://localhost:8080/",
          "height": 610
        },
        "outputId": "b9584314-d9d9-4e87-9f21-8d87e8d9605a"
      },
      "source": [
        "# Definition of training data\n",
        "#Drop categorical data from dataset using drop() function.\n",
        "X_tr = dataFrame.drop(['TenYearCHD'], axis=1)\n",
        "#Set the 'Metrics.Review Score'column as our ground truth \n",
        "Y_tr = dataFrame.loc[:,'TenYearCHD']\n",
        "# Feature Importance analysis\n",
        "from sklearn.ensemble import ExtraTreesClassifier\n",
        "#Calling the defined feature importance function\n",
        "importance_pd = feature_imp(X_tr,Y_tr)\n",
        "# plot feature importance\n",
        "plt.figure()\n",
        "plt.bar([i for i in X_tr.columns], importance_pd['importancy'])\n",
        "plt.title('Feature Importance')\n",
        "plt.xticks(rotation = 90)\n",
        "plt.show()"
      ],
      "execution_count": 65,
      "outputs": [
        {
          "output_type": "stream",
          "name": "stdout",
          "text": [
            "male, Score: 0.01867\n",
            "age, Score: 0.13110\n",
            "education, Score: 0.05208\n",
            "currentSmoker, Score: 0.01482\n",
            "cigsPerDay, Score: 0.05354\n",
            "BPMeds, Score: 0.00845\n",
            "prevalentStroke, Score: 0.00529\n",
            "prevalentHyp, Score: 0.02312\n",
            "diabetes, Score: 0.00821\n",
            "totChol, Score: 0.11351\n",
            "sysBP, Score: 0.12539\n",
            "diaBP, Score: 0.11485\n",
            "BMI, Score: 0.11312\n",
            "heartRate, Score: 0.10349\n",
            "glucose, Score: 0.11433\n"
          ]
        },
        {
          "output_type": "display_data",
          "data": {
            "text/plain": [
              "<Figure size 432x288 with 1 Axes>"
            ],
            "image/png": "[encoded data removed]"
          },
          "metadata": {
            "needs_background": "light"
          }
        }
      ]
    }
  ]
}